{
 "cells": [
  {
   "cell_type": "markdown",
   "metadata": {},
   "source": [
    "# Experiments with Runnables"
   ]
  },
  {
   "cell_type": "markdown",
   "metadata": {},
   "source": [
    "Create a few RunnableLambda, and compose them in sequence and in parallel"
   ]
  },
  {
   "cell_type": "code",
   "execution_count": null,
   "metadata": {},
   "outputs": [],
   "source": [
    "from dotenv import load_dotenv\n",
    "\n",
    "assert load_dotenv(verbose=True)"
   ]
  },
  {
   "cell_type": "code",
   "execution_count": null,
   "metadata": {},
   "outputs": [],
   "source": [
    "from langchain_core.runnables import (\n",
    "    RunnableLambda,\n",
    "    RunnableParallel,\n",
    "    RunnablePassthrough,\n",
    "    chain,\n",
    ")\n",
    "\n",
    "add_1 = RunnableLambda(lambda x: x + 1)\n",
    "add_3 = RunnableLambda(lambda x: x + 3)\n",
    "\n",
    "\n",
    "@chain\n",
    "def mult_2(x: int):\n",
    "    return x * 2\n",
    "\n",
    "\n",
    "sequence = mult_2 | add_1\n",
    "parallel = mult_2 | {\"add_1\": add_1, \"add_3\": add_3}\n",
    "\n",
    "# same as above:\n",
    "parallel1 = RunnableParallel(add_1=add_1, add_3=add_3)\n",
    "\n",
    "add_1.invoke(5)  # 6"
   ]
  },
  {
   "cell_type": "markdown",
   "metadata": {},
   "source": [
    "Run the runnable directly, batched, in parallel (multi-threaded whenever possible!), ..."
   ]
  },
  {
   "cell_type": "code",
   "execution_count": null,
   "metadata": {},
   "outputs": [],
   "source": [
    "print(sequence.invoke(1))  # 3\n",
    "sequence.batch([1, 2, 3])  # [3,5,7]\n",
    "parallel.invoke(1)  # {'add_1': 3, 'add_3': 5}\n",
    "\n",
    "await sequence.abatch([1, 2, 3, 4, 5])  # [3, 5, 7, 9, 11]"
   ]
  },
  {
   "cell_type": "code",
   "execution_count": null,
   "metadata": {},
   "outputs": [],
   "source": [
    "parallel.invoke(1)  # {'add_1': 3, 'add_3': 5}"
   ]
  },
  {
   "cell_type": "markdown",
   "metadata": {},
   "source": [
    "Display the Graph"
   ]
  },
  {
   "cell_type": "code",
   "execution_count": null,
   "metadata": {},
   "outputs": [],
   "source": [
    "parallel.get_graph().print_ascii()"
   ]
  },
  {
   "cell_type": "markdown",
   "metadata": {},
   "source": [
    "Use RunnablePassthrough"
   ]
  },
  {
   "cell_type": "code",
   "execution_count": null,
   "metadata": {},
   "outputs": [],
   "source": [
    "runnable = add_1 | {\"a\": RunnablePassthrough(), \"b\": add_1}\n",
    "runnable.invoke(10)  # {'a': 11, 'b': 12}"
   ]
  },
  {
   "cell_type": "markdown",
   "metadata": {},
   "source": [
    "Demo 'bind' and 'RunnableConfig' : implement a filter, and log activities"
   ]
  },
  {
   "cell_type": "code",
   "execution_count": null,
   "metadata": {},
   "outputs": [],
   "source": [
    "from langchain_core.runnables import RunnableConfig\n",
    "from loguru import logger\n",
    "\n",
    "\n",
    "@chain  # type: ignore\n",
    "def max(x: int, max: int, min_x: int, config: RunnableConfig) -> int:\n",
    "    log = config[\"configurable\"][\"logger\"]\n",
    "    if log:  # type: ignore\n",
    "        log.info(f\"check if {x} < {max}\")\n",
    "    return min(max, x)\n",
    "\n",
    "\n",
    "a = sequence | max.bind(max=6, min_x=0)  # type: ignore\n",
    "a.batch([1, 2, 3, 4, 5], config=({\"logger\": logger}))"
   ]
  },
  {
   "cell_type": "markdown",
   "metadata": {},
   "source": [
    "Demo 'assign\", that adds new fields to the dict output of the runnable and returns a new runnable. Often use with RunnablePassthrough to add a given argument to a dict."
   ]
  },
  {
   "cell_type": "code",
   "execution_count": null,
   "metadata": {},
   "outputs": [],
   "source": [
    "# Write a simpler example to illustrate .assign and RunnablePassthrough.assign AI!"
   ]
  },
  {
   "cell_type": "code",
   "execution_count": null,
   "metadata": {},
   "outputs": [],
   "source": [
    "from langchain_core.runnables import RunnableParallel, RunnablePassthrough\n",
    "\n",
    "chain_with_assign = RunnablePassthrough.assign(mult_10=lambda x: x[\"num\"] * 10)\n",
    "\n",
    "chain_with_assign.invoke({\"num\": 5})"
   ]
  },
  {
   "cell_type": "markdown",
   "metadata": {},
   "source": [
    "Most of the time, there are several parameters, or it's a dictionary (almost equivalent in Python).\n",
    "'itemgetter' create a function that can extract one or several fields from a dictionary. \n",
    "\n",
    "First have a look at how it works:"
   ]
  },
  {
   "cell_type": "code",
   "execution_count": null,
   "metadata": {},
   "outputs": [],
   "source": [
    "from operator import itemgetter\n",
    "\n",
    "dic = {\n",
    "    \"question\": \"What are the types of agent memory?\",\n",
    "    \"generation\": \"The types of agent memory are: sensory memory, short-term memory, and long-term memory.\",\n",
    "    \"documents\": [],\n",
    "}\n",
    "\n",
    "getter_function = itemgetter(\"generation\")\n",
    "getter_function(dic)"
   ]
  },
  {
   "cell_type": "markdown",
   "metadata": {},
   "source": [
    "here an example with Runnables"
   ]
  },
  {
   "cell_type": "code",
   "execution_count": null,
   "metadata": {},
   "outputs": [],
   "source": [
    "adder = RunnableLambda(lambda d: d[\"op1\"] + d[\"op2\"])\n",
    "\n",
    "\n",
    "mult_2_and_add = {\"op1\": itemgetter(\"a\") | mult_2, \"op2\": itemgetter(\"b\") | mult_2} | adder\n",
    "\n",
    "mult_2_and_add.invoke({\"a\": 10, \"b\": 2})  # should return 2*10 + 2*2 = 24"
   ]
  },
  {
   "cell_type": "markdown",
   "metadata": {},
   "source": [
    "Runnables can have fallback in case they break."
   ]
  },
  {
   "cell_type": "code",
   "execution_count": null,
   "metadata": {},
   "outputs": [],
   "source": [
    "@chain\n",
    "def mult_10_fail(x: int):\n",
    "    raise Exception(\"unavailable multiplication by 10 service\")\n",
    "    return x * 10\n",
    "\n",
    "\n",
    "fallback_chain = mult_10_fail.with_fallbacks([mult_2])\n",
    "fallback_chain.invoke(2)"
   ]
  },
  {
   "cell_type": "markdown",
   "metadata": {},
   "source": [
    "See also : https://python.langchain.com/v0.2/docs/how_to/lcel_cheatsheet/"
   ]
  },
  {
   "cell_type": "markdown",
   "metadata": {},
   "source": []
  }
 ],
 "metadata": {
  "kernelspec": {
   "display_name": "genai-blueprint (3.12.3)",
   "language": "python",
   "name": "python3"
  },
  "language_info": {
   "codemirror_mode": {
    "name": "ipython",
    "version": 3
   },
   "file_extension": ".py",
   "mimetype": "text/x-python",
   "name": "python",
   "nbconvert_exporter": "python",
   "pygments_lexer": "ipython3",
   "version": "3.12.3"
  }
 },
 "nbformat": 4,
 "nbformat_minor": 2
}
