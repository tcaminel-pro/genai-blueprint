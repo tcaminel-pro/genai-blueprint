{
 "cells": [
  {
   "cell_type": "markdown",
   "metadata": {},
   "source": [
    "# Function Calling with LLMs\n",
    "\n",
    "This notebook demonstrates how to use LLMs to call external functions/tools.\n",
    "\n",
    "We'll cover:\n",
    "1. Basic function binding and invocation\n",
    "2. Creating a tool-calling agent\n",
    "3. Chaining multiple tool calls\n",
    "\n",
    "Function calling allows LLMs to:\n",
    "- Execute code\n",
    "- Access external APIs\n",
    "- Perform complex calculations\n",
    "- Integrate with other systems"
   ]
  },
  {
   "cell_type": "code",
   "execution_count": null,
   "metadata": {},
   "outputs": [],
   "source": [
    "from dotenv import load_dotenv\n",
    "from rich import print\n",
    "\n",
    "%load_ext autoreload\n",
    "%autoreload 2\n",
    "\n",
    "load_dotenv(verbose=True)"
   ]
  },
  {
   "cell_type": "code",
   "execution_count": null,
   "metadata": {},
   "outputs": [],
   "source": [
    "from langchain_core.tools import tool\n",
    "\n",
    "from src.ai_core.llm_factory import get_llm\n",
    "from src.ai_core.prompts import def_prompt"
   ]
  },
  {
   "cell_type": "markdown",
   "metadata": {},
   "source": [
    "## Basic Function Calling\n",
    "\n",
    "Here we demonstrate the core function calling workflow:\n",
    "1. Define a simple addition function\n",
    "2. Bind it to the LLM\n",
    "3. Ask the LLM to use the function\n",
    "\n",
    "The LLM will:\n",
    "- Recognize when to use the function\n",
    "- Generate the correct parameters\n",
    "- Return the function call details"
   ]
  },
  {
   "cell_type": "code",
   "execution_count": null,
   "metadata": {},
   "outputs": [],
   "source": [
    "llm = get_llm(\"gpt_4o_azure\")\n",
    "llm = get_llm()\n",
    "messages = []\n",
    "\n",
    "\n",
    "@tool\n",
    "def add(a: int, b: int) -> int:\n",
    "    \"\"\"Addition 2 integer numbers a and b.\n",
    "\n",
    "    Args:\n",
    "        a: first int\n",
    "        b: second int\n",
    "    \"\"\"\n",
    "    print(\"'add' tool called\")\n",
    "    return a + b\n",
    "\n",
    "\n",
    "llm_with_tools = llm.bind_tools([add], tool_choice=\"any\")  # tool_choice=\"any\"\n",
    "prompt = def_prompt(\n",
    "    \"Use the provided functions  to compute what is 45 + 12; execute the function. Return 'I don't know' if there are not relevant function  \"\n",
    ")\n",
    "\n",
    "chain = prompt | llm_with_tools\n",
    "ai_msg = chain.invoke({})\n",
    "\n",
    "print(ai_msg)"
   ]
  },
  {
   "cell_type": "code",
   "execution_count": null,
   "metadata": {},
   "outputs": [],
   "source": [
    "print(llm_with_tools)"
   ]
  },
  {
   "cell_type": "markdown",
   "metadata": {},
   "source": [
    "## Function Execution\n",
    "\n",
    "After the LLM returns a function call:\n",
    "1. We execute the function locally\n",
    "2. Pass the result back to the LLM\n",
    "3. Let the LLM process the final response\n",
    "\n",
    "This creates a complete function calling loop."
   ]
  },
  {
   "cell_type": "code",
   "execution_count": null,
   "metadata": {},
   "outputs": [],
   "source": [
    "# Step 2 : Execute the function, and send result to LLM"
   ]
  },
  {
   "cell_type": "markdown",
   "metadata": {},
   "source": [
    "## Tool-Calling Agent\n",
    "\n",
    "For more complex scenarios, we can create an agent that:\n",
    "- Manages multiple tools\n",
    "- Handles tool selection\n",
    "- Processes tool results\n",
    "- Maintains conversation state\n",
    "\n",
    "Here we create a math assistant agent with:\n",
    "- Addition\n",
    "- Exponentiation capabilities"
   ]
  },
  {
   "cell_type": "code",
   "execution_count": null,
   "metadata": {},
   "outputs": [],
   "source": [
    "import math\n",
    "\n",
    "from langchain.agents import AgentExecutor, create_tool_calling_agent, tool\n",
    "from langchain_core.prompts import ChatPromptTemplate\n",
    "\n",
    "llm = get_llm(\"deepseek_v31_openrouter\")\n",
    "\n",
    "@tool\n",
    "def add(a: int, b: int) -> int:\n",
    "    \"\"\"Adds a and b.\n",
    "\n",
    "    Args:\n",
    "        a: first int\n",
    "        b: second int\n",
    "    \"\"\"\n",
    "    return a + b\n",
    "\n",
    "\n",
    "@tool\n",
    "def exponentiate(x: float, y: float) -> float:\n",
    "    \"\"\"Calculate the power of a number. Return x**y (w to the power of y).\"\"\"\n",
    "    print(\"exponentiate\")\n",
    "    return math.pow(x, y)\n",
    "\n",
    "\n",
    "prompt = ChatPromptTemplate.from_messages(\n",
    "    [\n",
    "        (\"system\", \"You are a helpful Math Assistant. Please use the provided tool\"),\n",
    "        (\"human\", \"{input}\"),\n",
    "        (\"placeholder\", \"{agent_scratchpad}\"),\n",
    "    ]\n",
    ")\n",
    "\n",
    "tools = [add, exponentiate]\n",
    "agent = create_tool_calling_agent(llm, tools, prompt)  # type: ignore\n",
    "agent_executor = AgentExecutor(agent=agent, tools=tools, verbose=True, handle_parsing_errors=True)  # type: ignore\n",
    "\n",
    "r = agent_executor.invoke({\"input\": \"what is 12  + 100^3\"})\n",
    "# r = agent_executor.invoke({\"input\": \"What is the temperature in Toulouse today ? \"})\n",
    "print(r)"
   ]
  }
 ],
 "metadata": {
  "kernelspec": {
   "display_name": "genai-blueprint (3.12.3)",
   "language": "python",
   "name": "python3"
  },
  "language_info": {
   "codemirror_mode": {
    "name": "ipython",
    "version": 3
   },
   "file_extension": ".py",
   "mimetype": "text/x-python",
   "name": "python",
   "nbconvert_exporter": "python",
   "pygments_lexer": "ipython3",
   "version": "3.12.3"
  }
 },
 "nbformat": 4,
 "nbformat_minor": 2
}
