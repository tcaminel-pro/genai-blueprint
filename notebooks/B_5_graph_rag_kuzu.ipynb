{
 "cells": [
  {
   "cell_type": "markdown",
   "metadata": {},
   "source": [
    "# Graph RAG using LangChain and Kuzu\n",
    "\n",
    "This notebook demonstrates **Graph-based Retrieval Augmented Generation** using:\n",
    "- KuzuDB as the graph database\n",
    "- LangChain for graph construction and querying\n",
    "- LLMs for knowledge graph extraction\n",
    "\n",
    "Key features:\n",
    "- Converts text into structured knowledge graphs\n",
    "- Supports complex relationship queries\n",
    "- Visualizes the resulting graph\n",
    "\n",
    "Based on: [langchain-kuzu package](https://pypi.org/project/langchain-kuzu/)"
   ]
  },
  {
   "cell_type": "code",
   "execution_count": 1,
   "metadata": {},
   "outputs": [],
   "source": [
    "# A default setup cell.\n",
    "# It imports environment variables, define 'devtools.debug\" as a buildins, set PYTHONPATH, and code auto-reload\n",
    "# Copy it in other Notebooks\n",
    "\n",
    "\n",
    "from dotenv import load_dotenv\n",
    "from rich import print\n",
    "\n",
    "load_dotenv(verbose=True)\n",
    "%load_ext autoreload\n",
    "%autoreload 2\n",
    "%reset -f\n",
    "\n",
    "# cSpell: disable"
   ]
  },
  {
   "cell_type": "markdown",
   "metadata": {},
   "source": [
    "## Import Required Libraries\n",
    "\n",
    "Key components we'll use:\n",
    "- `kuzu`: Graph database engine\n",
    "- `LLMGraphTransformer`: Converts text to graph structure\n",
    "- `KuzuGraph`: LangChain wrapper for KuzuDB\n",
    "- `KuzuQAChain`: Handles graph-based question answering\n",
    "- `CytoscapeWidget`: For graph visualization"
   ]
  },
  {
   "cell_type": "code",
   "execution_count": 2,
   "metadata": {},
   "outputs": [],
   "source": [
    "import kuzu\n",
    "from genai_tk.core.llm_factory import get_llm\n",
    "from ipycytoscape import CytoscapeWidget\n",
    "from langchain_core.documents import Document\n",
    "from langchain_experimental.graph_transformers import LLMGraphTransformer\n",
    "from langchain_kuzu.chains.graph_qa.kuzu import KuzuQAChain\n",
    "from langchain_kuzu.graphs.kuzu_graph import KuzuGraph\n",
    "from langchain_openai import ChatOpenAI"
   ]
  },
  {
   "cell_type": "markdown",
   "metadata": {},
   "source": [
    "## Build the Knowledge Graph\n",
    "\n",
    "We'll create a graph from text by:\n",
    "1. Defining allowed node types (Person, Company, Location)\n",
    "2. Specifying allowed relationships between them\n",
    "3. Using an LLM to extract entities and relationships\n",
    "4. Storing the structured graph in KuzuDB\n",
    "\n",
    "The example text contains facts about Apple's CEO and headquarters location."
   ]
  },
  {
   "cell_type": "code",
   "execution_count": 3,
   "metadata": {},
   "outputs": [
    {
     "name": "stderr",
     "output_type": "stream",
     "text": [
      "\u001b[32m2025-09-25 18:43:46.096\u001b[0m | \u001b[34m\u001b[1mDEBUG   \u001b[0m | \u001b[36mgenai_tk.core.llm_factory\u001b[0m:\u001b[36mget_llm\u001b[0m:\u001b[36m726\u001b[0m - \u001b[34m\u001b[1mget LLM:'kimi_k2_openrouter'\u001b[0m\n"
     ]
    }
   ],
   "source": [
    "DB = \"/tmp/test_db4\"\n",
    "MODEL_ID = None\n",
    "llm = get_llm(llm_id=MODEL_ID)\n",
    "\n",
    "# llm = ChatOpenAI(model=\"gpt-4o-mini\", temperature=0)\n",
    "\n",
    "text = \"Tim Cook is the CEO of Apple. Apple has its headquarters in California.\"\n",
    "\n",
    "if True:  # ne schema\n",
    "    allowed_nodes = [\"Person\", \"Company\", \"Location\"]\n",
    "    allowed_relationships = [\n",
    "        (\"Person\", \"IS_CEO_OF\", \"Company\"),\n",
    "        (\"Company\", \"HAS_HEADQUARTERS_IN\", \"Location\"),\n",
    "    ]\n",
    "    # Define the LLMGraphTransformer\n",
    "    llm_transformer = LLMGraphTransformer(\n",
    "        llm=llm,\n",
    "        allowed_nodes=allowed_nodes,\n",
    "        allowed_relationships=allowed_relationships,\n",
    "    )\n",
    "\n",
    "    # Convert the given text into graph documents\n",
    "    documents = [Document(page_content=text)]\n",
    "    graph_documents = llm_transformer.convert_to_graph_documents(documents)\n",
    "    db = kuzu.Database(DB)\n",
    "    graph = KuzuGraph(db, allow_dangerous_requests=True)\n",
    "\n",
    "    # Add the graph document to the graph\n",
    "    graph.add_graph_documents(\n",
    "        graph_documents,\n",
    "        include_source=True,\n",
    "    )\n",
    "else:\n",
    "    print(\"load {DB}\")"
   ]
  },
  {
   "cell_type": "code",
   "execution_count": null,
   "metadata": {},
   "outputs": [],
   "source": []
  },
  {
   "cell_type": "markdown",
   "metadata": {},
   "source": [
    "## Query the Knowledge Graph\n",
    "\n",
    "Now we'll use the `KuzuQAChain` to:\n",
    "1. Accept natural language questions\n",
    "2. Generate and execute Cypher queries\n",
    "3. Return formatted answers\n",
    "\n",
    "The chain shows the generated Cypher queries when verbose=True."
   ]
  },
  {
   "cell_type": "code",
   "execution_count": 4,
   "metadata": {},
   "outputs": [
    {
     "name": "stderr",
     "output_type": "stream",
     "text": [
      "\u001b[32m2025-09-25 18:43:50.262\u001b[0m | \u001b[34m\u001b[1mDEBUG   \u001b[0m | \u001b[36mgenai_tk.core.llm_factory\u001b[0m:\u001b[36mget_llm\u001b[0m:\u001b[36m726\u001b[0m - \u001b[34m\u001b[1mget LLM:'kimi_k2_openrouter'\u001b[0m\n"
     ]
    },
    {
     "name": "stdout",
     "output_type": "stream",
     "text": [
      "\n",
      "\n",
      "\u001b[1m> Entering new KuzuQAChain chain...\u001b[0m\n",
      "Generated Cypher:\n",
      "\u001b[32;1m\u001b[1;3m\n",
      "MATCH (p:Person)-[:IS_CEO_OF]->(c:Company)\n",
      "WHERE c.id = 'Apple'\n",
      "RETURN p.id AS CEO\n",
      "\u001b[0m\n",
      "Full Context:\n",
      "\u001b[32;1m\u001b[1;3m[{'CEO': 'Tim Cook'}]\u001b[0m\n",
      "\n",
      "\u001b[1m> Finished chain.\u001b[0m\n",
      "Query: Who is the CEO of Apple?\n",
      "Result: {'query': 'Who is the CEO of Apple?', 'result': 'The CEO of Apple is Tim Cook.'}\n",
      "\n",
      "\n",
      "\n",
      "\u001b[1m> Entering new KuzuQAChain chain...\u001b[0m\n",
      "Generated Cypher:\n",
      "\u001b[32;1m\u001b[1;3m\n",
      "MATCH (c:Company {id: \"Apple\"})-[:HAS_HEADQUARTERS_IN]->(l:Location)\n",
      "RETURN l.id AS headquarters\n",
      "\u001b[0m\n",
      "Full Context:\n",
      "\u001b[32;1m\u001b[1;3m[{'headquarters': 'California'}]\u001b[0m\n",
      "\n",
      "\u001b[1m> Finished chain.\u001b[0m\n",
      "Query: Where is Apple headquartered?\n",
      "Result: {'query': 'Where is Apple headquartered?', 'result': 'Apple is headquartered in California.'}\n",
      "\n"
     ]
    }
   ],
   "source": [
    "llm = get_llm(llm_id=None)\n",
    "db = kuzu.Database(DB)\n",
    "graph = KuzuGraph(db, allow_dangerous_requests=True)\n",
    "\n",
    "# Create the KuzuQAChain with verbosity enabled to see the generated Cypher queries\n",
    "chain = KuzuQAChain.from_llm(\n",
    "    llm=llm,\n",
    "    graph=graph,\n",
    "    verbose=True,\n",
    "    allow_dangerous_requests=True,\n",
    ")\n",
    "\n",
    "# Query the graph\n",
    "queries = [\n",
    "    \"Who is the CEO of Apple?\",\n",
    "    \"Where is Apple headquartered?\",\n",
    "]\n",
    "\n",
    "for query in queries:\n",
    "    result = chain.invoke(query)\n",
    "    print(f\"Query: {query}\\nResult: {result}\\n\")"
   ]
  },
  {
   "cell_type": "markdown",
   "metadata": {},
   "source": [
    "## Visualize the Graph\n",
    "\n",
    "We'll use Cytoscape to render an interactive visualization of:\n",
    "- Nodes (entities)\n",
    "- Edges (relationships)\n",
    "- Their properties"
   ]
  },
  {
   "cell_type": "code",
   "execution_count": null,
   "metadata": {},
   "outputs": [],
   "source": []
  },
  {
   "cell_type": "code",
   "execution_count": 5,
   "metadata": {},
   "outputs": [],
   "source": [
    "# Create Cytoscape widget\n",
    "from genai_blueprint.webapp.ui_components.cypher_graph_display import get_cytoscape_json, get_cytoscape_style\n",
    "\n",
    "cyto = CytoscapeWidget()\n",
    "cyto.graph.add_graph_from_json(get_cytoscape_json(graph))\n",
    "cyto.set_style(get_cytoscape_style())\n",
    "# Set layout and style\n",
    "cyto.set_layout(animate=True)"
   ]
  },
  {
   "cell_type": "code",
   "execution_count": 6,
   "metadata": {},
   "outputs": [
    {
     "data": {
      "application/vnd.jupyter.widget-view+json": {
       "model_id": "fb006b1bdcce48c89dbb7630e45125e6",
       "version_major": 2,
       "version_minor": 0
      },
      "text/plain": [
       "CytoscapeWidget(cytoscape_layout={'name': 'cola', 'animate': True}, cytoscape_style=[{'selector': 'node', 'css…"
      ]
     },
     "execution_count": 6,
     "metadata": {},
     "output_type": "execute_result"
    }
   ],
   "source": [
    "# Display the graph\n",
    "cyto"
   ]
  }
 ],
 "metadata": {
  "kernelspec": {
   "display_name": "genai-blueprint (3.12.3)",
   "language": "python",
   "name": "python3"
  },
  "language_info": {
   "codemirror_mode": {
    "name": "ipython",
    "version": 3
   },
   "file_extension": ".py",
   "mimetype": "text/x-python",
   "name": "python",
   "nbconvert_exporter": "python",
   "pygments_lexer": "ipython3",
   "version": "3.12.3"
  }
 },
 "nbformat": 4,
 "nbformat_minor": 2
}