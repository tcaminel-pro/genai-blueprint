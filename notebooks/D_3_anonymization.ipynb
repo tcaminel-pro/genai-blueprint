{
 "cells": [
  {
   "cell_type": "markdown",
   "metadata": {},
   "source": [
    "# Reversible Anonymization with LCEL and Fuzzy Matching\n",
    "\n",
    "This notebook demonstrates:\n",
    "1. Using PresidioReversibleAnonymizer with LangChain Expression Language (LCEL)\n",
    "2. Implementing combined exact+fuzzy matching strategy\n",
    "3. Full workflow from anonymization -> LLM processing -> deanonymization\n",
    "4. Add custom recognizers to anonymize compagny names\n",
    "\n",
    "Taken from:\n",
    "- https://python.langchain.com/v0.1/docs/guides/productionization/safety/presidio_data_anonymization/\n",
    "- https://python.langchain.com/api_reference/experimental/data_anonymizer/langchain_experimental.data_anonymizer.deanonymizer_matching_strategies.combined_exact_fuzzy_matching_strategy.html\n"
   ]
  },
  {
   "cell_type": "code",
   "execution_count": null,
   "metadata": {},
   "outputs": [],
   "source": [
    "from devtools import debug  # noqa: F401  # noqa: F811\n",
    "from dotenv import load_dotenv\n",
    "from rich import print  # noqa: F401\n",
    "\n",
    "assert load_dotenv(verbose=True)\n",
    "\n",
    "\n",
    "%load_ext autoreload\n",
    "%autoreload 2\n",
    "%reset -f"
   ]
  },
  {
   "cell_type": "code",
   "execution_count": null,
   "metadata": {},
   "outputs": [],
   "source": [
    "from faker import Faker\n",
    "from langchain_core.prompts import PromptTemplate\n",
    "from langchain_experimental.data_anonymizer import PresidioReversibleAnonymizer\n",
    "from langchain_experimental.data_anonymizer.deanonymizer_matching_strategies import (\n",
    "    combined_exact_fuzzy_matching_strategy,\n",
    ")\n",
    "from langchain_openai import ChatOpenAI\n",
    "from presidio_analyzer import Pattern, PatternRecognizer\n",
    "from presidio_anonymizer import OperatorConfig\n",
    "\n",
    "# Initialize anonymizer with common PII types\n",
    "anonymizer = PresidioReversibleAnonymizer(\n",
    "    analyzed_fields=[\"PERSON\", \"PHONE_NUMBER\", \"EMAIL_ADDRESS\", \"CREDIT_CARD\"],\n",
    "    faker_seed=42,  # For deterministic fake data\n",
    ")"
   ]
  },
  {
   "cell_type": "code",
   "execution_count": null,
   "metadata": {},
   "outputs": [],
   "source": [
    "# Original sensitive text\n",
    "text = \"\"\"John Doe recently lost his wallet. \n",
    "Inside is $500 cash and his Visa card 4111 1111 1111 1111. \n",
    "Contact him at johndoe@example.com or 555-123-4567.\"\"\"\n",
    "\n",
    "# Anonymize the text\n",
    "anonymized_text = anonymizer.anonymize(text)\n",
    "print(\"Anonymized:\\n\", anonymized_text)"
   ]
  },
  {
   "cell_type": "code",
   "execution_count": null,
   "metadata": {},
   "outputs": [],
   "source": [
    "# Create LCEL chain with anonymization and deanonymization\n",
    "template = \"\"\"Convert this message into a formal notification:\n",
    "{anonymized_text}\n",
    "\"\"\"\n",
    "\n",
    "prompt = PromptTemplate.from_template(template)\n",
    "llm = ChatOpenAI(temperature=0)\n",
    "\n",
    "# Chain: anonymize -> LLM -> deanonymize\n",
    "chain = (\n",
    "    {\"anonymized_text\": anonymizer.anonymize}\n",
    "    | prompt\n",
    "    | llm\n",
    "    | (\n",
    "        lambda msg: anonymizer.deanonymize(\n",
    "            msg.content, deanonymizer_matching_strategy=combined_exact_fuzzy_matching_strategy\n",
    "        )\n",
    "    )\n",
    ")\n",
    "\n",
    "# Invoke the chain\n",
    "response = chain.invoke(text)\n",
    "print(\"\\nFinal Response:\\n\", response)"
   ]
  },
  {
   "cell_type": "code",
   "execution_count": null,
   "metadata": {},
   "outputs": [],
   "source": [
    "# Demonstrate fuzzy matching robustness\n",
    "llm_altered_text = \"\"\"\n",
    "We regret to inform that Mr. Lynch (contactable at 734-413-1647 \n",
    "or jamesmichael@example.com) mislaid a Visa card ending with 40262.\n",
    "\"\"\"\n",
    "\n",
    "# Deanonymize with different strategies\n",
    "print(\"Without fuzzy matching:\\n\", anonymizer.deanonymize(llm_altered_text))\n",
    "print(\n",
    "    \"\\nWith fuzzy matching:\\n\",\n",
    "    anonymizer.deanonymize(llm_altered_text, deanonymizer_matching_strategy=combined_exact_fuzzy_matching_strategy),\n",
    ")"
   ]
  },
  {
   "cell_type": "markdown",
   "metadata": {},
   "source": [
    "## Custom Company/Product Recognizer Example\n",
    "\n",
    "Demonstrate adding custom recognizer for specific company/product names:"
   ]
  },
  {
   "cell_type": "code",
   "execution_count": null,
   "metadata": {},
   "outputs": [],
   "source": [
    "# List of sensitive company/product names to detect (case-insensitive)\n",
    "\n",
    "\n",
    "fake = Faker(locale=[\"fr-FR\", \"en-US\"])\n",
    "\n",
    "\n",
    "COMPANY_NAMES = [\"Atos\", \"CapGemini\", \"IBM\", \"CNES\", \"Thales\", \"Google\", \"Microsoft\"]\n",
    "\n",
    "# Create regex pattern to match any of the names as whole words\n",
    "company_pattern = r\"(?i)\\b(\" + \"|\".join(COMPANY_NAMES) + r\")\\b\"  # (?i) makes it case-insensitive\n",
    "\n",
    "# Create custom recognizer for company/product names\n",
    "company_recognizer = PatternRecognizer(\n",
    "    supported_entity=\"COMPANY\", patterns=[Pattern(name=\"company_pattern\", regex=company_pattern, score=0.9)]\n",
    ")\n",
    "\n",
    "# Add custom recognizer and fake replacement operator\n",
    "anonymizer.add_recognizer(company_recognizer)\n",
    "anonymizer.add_operators(\n",
    "    {\n",
    "        \"COMPANY\": OperatorConfig(\n",
    "            \"custom\",\n",
    "            {\n",
    "                \"lambda\": lambda _: fake.bothify(text=\"CCC####\")  # Generate codes like CCC1221\n",
    "            },\n",
    "        )\n",
    "    }\n",
    ")\n",
    "\n",
    "# Test with mixed case company names\n",
    "text_with_companies = \"\"\"\n",
    "Our partners include ATOS, Capgemini and ibm. \n",
    "Recent projects with Thales and cnes have been successful.\n",
    "\"\"\"\n",
    "\n",
    "print(\"Original:\\n\", text_with_companies)\n",
    "print(\"\\nAnonymized:\\n\", anonymizer.anonymize(text_with_companies))"
   ]
  },
  {
   "cell_type": "markdown",
   "metadata": {},
   "source": [
    "Display the mapping table"
   ]
  },
  {
   "cell_type": "code",
   "execution_count": null,
   "metadata": {},
   "outputs": [],
   "source": [
    "anonymizer.deanonymizer_mapping"
   ]
  },
  {
   "cell_type": "code",
   "execution_count": null,
   "metadata": {},
   "outputs": [],
   "source": []
  },
  {
   "cell_type": "markdown",
   "metadata": {},
   "source": [
    "## Key Takeaways\n",
    "- LCEL enables seamless integration of privacy-preserving steps\n",
    "- Combined matching strategy handles LLM output variations\n",
    "- Full reversibility maintains data utility while protecting PII\n",
    "- Mapping persistence allows consistent anonymization across sessions"
   ]
  }
 ],
 "metadata": {
  "kernelspec": {
   "display_name": "genai-blueprint (3.12.3)",
   "language": "python",
   "name": "python3"
  },
  "language_info": {
   "codemirror_mode": {
    "name": "ipython",
    "version": 3
   },
   "file_extension": ".py",
   "mimetype": "text/x-python",
   "name": "python",
   "nbconvert_exporter": "python",
   "pygments_lexer": "ipython3",
   "version": "3.12.3"
  }
 },
 "nbformat": 4,
 "nbformat_minor": 2
}
