{
 "cells": [
  {
   "cell_type": "markdown",
   "metadata": {},
   "source": [
    "# Embeddings\n",
    "\n",
    "This notebook demonstrates how to work with text embeddings using various models. \n",
    "\n",
    "Embeddings are numerical representations of text that capture semantic meaning, allowing us to perform operations like similarity comparison and clustering.\n",
    "\n",
    "We'll explore:\n",
    "- Loading different embedding models\n",
    "- Generating embeddings for text\n",
    "- Calculating similarity between embeddings"
   ]
  },
  {
   "cell_type": "code",
   "execution_count": null,
   "metadata": {},
   "outputs": [],
   "source": [
    "# Setup environment\n",
    "from dotenv import find_dotenv, load_dotenv\n",
    "\n",
    "load_dotenv(verbose=True)\n",
    "assert find_dotenv(), \"no .env file found\"\n",
    "\n",
    "%load_ext autoreload\n",
    "%autoreload 2\n",
    "\n",
    "!export PYTHONPATH=$PYTHONPATH:$(pwd)\n",
    "\n",
    "# Force reload modules (add this cell and run it first)\n",
    "%load_ext autoreload\n",
    "%autoreload 2\n",
    "\n",
    "# Clear any cached imports\n",
    "import importlib\n",
    "import sys\n",
    "\n",
    "if \"genai_tk\" in sys.modules:\n",
    "    del sys.modules[\"genai_tk\"]\n",
    "    del sys.modules[\"genai_tk.core\"]\n",
    "    del sys.modules[\"genai_tk.core.embeddings_factory\"]"
   ]
  },
  {
   "cell_type": "code",
   "execution_count": null,
   "metadata": {},
   "outputs": [],
   "source": [
    "SENTENCE_1 = \"Tokenization is the process of breaking down a text into individual units.\"\n",
    "SENTENCE_2 = \"Tokens can be words, phrases, or even individual characters.\"\n",
    "SENTENCE_3 = \"LangChain Provide a standardized way to load and process various types of documents\""
   ]
  },
  {
   "cell_type": "markdown",
   "metadata": {},
   "source": [
    "# Available Embedding Models\n",
    "\n",
    "Our system provides a factory pattern for creating different embedding models. \n",
    "\n",
    "The available models are defined in [embeddings.py](../python/ai_core/embeddings.py).\n",
    "\n",
    "Let's list all available models:"
   ]
  },
  {
   "cell_type": "code",
   "execution_count": null,
   "metadata": {},
   "outputs": [],
   "source": [
    "from genai_tk.core.embeddings_factory import EmbeddingsFactory, get_embeddings\n",
    "\n",
    "# from src.ai_core.embeddings_factory import EmbeddingsFactory, get_embeddings\n",
    "\n",
    "print(EmbeddingsFactory.known_items())"
   ]
  },
  {
   "cell_type": "markdown",
   "metadata": {},
   "source": [
    "Let's create embeddings for our first sentence using different models.\n",
    "\n",
    "We'll use cosine similarity to compare how similar the embeddings are.\n"
   ]
  },
  {
   "cell_type": "code",
   "execution_count": null,
   "metadata": {},
   "outputs": [],
   "source": [
    "# Generate Embeddings\n",
    "\n",
    "\n",
    "from langchain_community.utils.math import cosine_similarity\n",
    "\n",
    "# Try different models by uncommenting one:\n",
    "MODEL_ID = \"ada_002_azure\"\n",
    "MODEL_ID = None  # Default\n",
    "embedder = get_embeddings(embeddings_id=MODEL_ID)\n",
    "\n",
    "# or select by tag from a configuration YAML file:\n",
    "# azure_embedder = get_embeddings(embeddings_tag=\"azure\")\n",
    "\n",
    "# Generate embedding for first sentence\n",
    "vector_1 = embedder.embed_documents([SENTENCE_1])\n",
    "print(f\"{vector_1[0][:20]}...\")\n",
    "print(f\"length: {len(vector_1[0])}\")"
   ]
  },
  {
   "cell_type": "markdown",
   "metadata": {},
   "source": [
    "Now let's compare how similar our first sentence is to the other sentences:"
   ]
  },
  {
   "cell_type": "code",
   "execution_count": null,
   "metadata": {},
   "outputs": [],
   "source": [
    "# Compare Embeddings\n",
    "\n",
    "other_vectors = embedder.embed_documents([SENTENCE_2, SENTENCE_3])\n",
    "\n",
    "result = cosine_similarity(vector_1, other_vectors)\n",
    "print(result)\n",
    "\n",
    "\n",
    "# The output shows the cosine similarity scores between the first sentence and the other two sentences. Scores closer to 1 indicate higher similarity."
   ]
  },
  {
   "cell_type": "code",
   "execution_count": null,
   "metadata": {},
   "outputs": [],
   "source": [
    "len(vector_1[0])"
   ]
  },
  {
   "cell_type": "markdown",
   "metadata": {},
   "source": [
    "### Assignment\n",
    "\n",
    "1. Try different sentences and observe how the similarity scores change\n",
    "2. Experiment with different embedding models by changing MODEL_ID\n",
    "3. Explore the [MTEB Leaderboard](https://huggingface.co/spaces/mteb/leaderboard) to compare embedding model performance\n",
    "\n",
    "Some things to try:\n",
    "- How do different models handle synonyms?\n",
    "- What happens with very short vs very long sentences?\n",
    "- How do the embedding dimensions differ between models?"
   ]
  }
 ],
 "metadata": {
  "kernelspec": {
   "display_name": "genai-blueprint (3.12.3)",
   "language": "python",
   "name": "python3"
  },
  "language_info": {
   "codemirror_mode": {
    "name": "ipython",
    "version": 3
   },
   "file_extension": ".py",
   "mimetype": "text/x-python",
   "name": "python",
   "nbconvert_exporter": "python",
   "pygments_lexer": "ipython3",
   "version": "3.12.3"
  }
 },
 "nbformat": 4,
 "nbformat_minor": 2
}
