{
 "cells": [
  {
   "cell_type": "markdown",
   "metadata": {},
   "source": [
    "See also : https://www.perplexity.ai/search/how-can-i-use-several-clientse-4jYeihetSze0WfAVg3LZUg \n",
    "\n"
   ]
  },
  {
   "cell_type": "code",
   "execution_count": null,
   "metadata": {},
   "outputs": [],
   "source": [
    "# Default setup cell.\n",
    "\n",
    "\n",
    "from dotenv import load_dotenv\n",
    "from rich import print\n",
    "\n",
    "load_dotenv(verbose=True)\n",
    "%load_ext autoreload\n",
    "%autoreload 2\n",
    "%reset -f"
   ]
  },
  {
   "cell_type": "code",
   "execution_count": null,
   "metadata": {},
   "outputs": [],
   "source": [
    "from genai_tk.core.llm_factory import get_llm\n",
    "from mcp import StdioServerParameters\n",
    "\n",
    "# set_rprint(True)\n",
    "# set_verbose(True)\n",
    "\n",
    "MODEL_ID = \"gpt_41mini_openrouter\"\n",
    "llm = get_llm(llm_id=MODEL_ID)"
   ]
  },
  {
   "cell_type": "code",
   "execution_count": null,
   "metadata": {},
   "outputs": [],
   "source": [
    "import os\n",
    "from pathlib import Path\n",
    "\n",
    "from genai_tk.core.mcp_client import mcp_agent_runner\n",
    "\n",
    "filesystem_mcp_params = StdioServerParameters(\n",
    "    command=\"npx\",\n",
    "    args=[\"-y\", \"@modelcontextprotocol/server-filesystem\", str(Path.cwd().parent)],\n",
    ")\n",
    "\n",
    "\n",
    "pubmed_mcp_params = StdioServerParameters(\n",
    "    command=\"uvx\",\n",
    "    args=[\"--quiet\", \"pubmedmcp@0.1.3\"],\n",
    "    env={\"UV_PYTHON\": \"3.12\", **os.environ},\n",
    ")\n",
    "\n",
    "arxiv_mcp_params = StdioServerParameters(\n",
    "    command=\"uv\",\n",
    "    args=[\"tools\", \"run\", \"@smithery/arxiv-mcp-server\", \"--storage-path\", \"/tmp\"],\n",
    ")\n",
    "\n",
    "timeserver_mcp_params = StdioServerParameters(\n",
    "    command=\"npx\",\n",
    "    args=[\"-y\", \"@modelcontextprotocol/mcp-server-time\"],\n",
    ")\n",
    "\n",
    "\n",
    "r = await mcp_agent_runner(llm, [filesystem_mcp_params], \"list current directory\")\n",
    "print(r)"
   ]
  },
  {
   "cell_type": "markdown",
   "metadata": {},
   "source": [
    "## With LangGrph + Wrapper\n",
    " Seems not work in notebook :("
   ]
  },
  {
   "cell_type": "code",
   "execution_count": null,
   "metadata": {},
   "outputs": [],
   "source": [
    "import asyncio\n",
    "\n",
    "from genai_tk.core.mcp_client import call_react_agent\n",
    "\n",
    "examples = [\n",
    "    \"what's the weather in Dallas ? \",\n",
    "    \"list files in current directory\",\n",
    "    \"connect to atos.net web site and get recent news\",\n",
    "]\n",
    "\n",
    "# asyncio.run(call_react_agent(examples[0]))\n",
    "await call_react_agent(\";\\n\".join(examples), mcp_server_filter=[\"filesystem\", \"weather\", \"playwright\"])"
   ]
  }
 ],
 "metadata": {
  "kernelspec": {
   "display_name": ".venv",
   "language": "python",
   "name": "python3"
  },
  "language_info": {
   "codemirror_mode": {
    "name": "ipython",
    "version": 3
   },
   "file_extension": ".py",
   "mimetype": "text/x-python",
   "name": "python",
   "nbconvert_exporter": "python",
   "pygments_lexer": "ipython3",
   "version": "3.12.3"
  }
 },
 "nbformat": 4,
 "nbformat_minor": 2
}
