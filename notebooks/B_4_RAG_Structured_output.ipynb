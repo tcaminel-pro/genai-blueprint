{
    "cells": [
        {
            "cell_type": "code",
            "execution_count": null,
            "metadata": {},
            "outputs": [],
            "source": [
                "from dotenv import load_dotenv\n",
                "from rich import print\n",
                "\n",
                "%load_ext autoreload\n",
                "%autoreload 2\n",
                "\n",
                "load_dotenv(verbose=True)"
            ]
        },
        {
            "cell_type": "code",
            "execution_count": null,
            "metadata": {},
            "outputs": [],
            "source": [
                "# cSpell:disable\n",
                "\n",
                "import re\n",
                "\n",
                "from langchain.output_parsers import PydanticOutputParser\n",
                "from langchain_community.document_loaders.web_base import WebBaseLoader\n",
                "from pydantic import BaseModel, Field\n",
                "\n",
                "URL = \"https://www.agroparistech.fr/formations-ingenieur/mention-biodiversite-ecologie-evolution-montpellier-parcours-m1-biodiversite-vegetale-gestion-ecosystemes-tropicaux-montpellier\"\n",
                "\n",
                "loader = WebBaseLoader(URL)\n",
                "doc = loader.load()\n",
                "page = doc[0].page_content.strip()\n",
                "page_cleaned = re.sub(r\"[\\t ]+\", \" \", page)\n",
                "page_cleaned = re.sub(r\"\\n{3,}\", \"\\n\\n\", page_cleaned)"
            ]
        },
        {
            "cell_type": "code",
            "execution_count": null,
            "metadata": {},
            "outputs": [],
            "source": [
                "from genai_tk.core.llm_factory import get_llm\n",
                "from genai_tk.core.prompts import def_prompt\n",
                "\n",
                "\n",
                "class Parcours(BaseModel):\n",
                "    metiers: list[str] = Field(description=\"liste de metiers auquels peut conduire la formation\")\n",
                "    domaines: list[str] = Field(description=\"domaines auquels s'applique cette formation\")\n",
                "\n",
                "\n",
                "system = \"\"\"\n",
                "    Extraire les metiers et les domaines d'une fiche de description de formation récupérée sur internet.\n",
                "    Repondre seulement avec les informations disponibles dans la description.\n",
                "    \\n\n",
                "    \"\"\"\n",
                "user = \"\"\"\n",
                "    fiche de desctiption de formation:\n",
                "    ---\n",
                "    {fiche}\n",
                "    ---\n",
                "    {format_instructions}\"\"\"\n",
                "\n",
                "parser = PydanticOutputParser(pydantic_object=Parcours)\n",
                "\n",
                "prompt = def_prompt(system=system, user=user).partial(format_instructions=parser.get_format_instructions())\n",
                "\n",
                "llm = get_llm(temperature=0.0)\n",
                "chain = prompt | llm | parser\n",
                "# summaries = chain.batch([{\"fiche\": page_cleaned}], {\"max_concurrency\": 5})\n",
                "\n",
                "# print(summaries)"
            ]
        },
        {
            "cell_type": "code",
            "execution_count": null,
            "metadata": {},
            "outputs": [],
            "source": [
                "system = \"\"\"\n",
                "    Extraire les metiers et les domaines d'une fiche de description de formation récupérée sur internet.\n",
                "    Repondre seulement avec les informations disponibles dans la description.\n",
                "    \\n\n",
                "    \"\"\"\n",
                "user = \"\"\"\n",
                "    fiche de desctiption de formation:\n",
                "    ---\n",
                "    {fiche}\n",
                "    ---\n",
                "    \"\"\"\n",
                "llm_with_output = llm = get_llm(temperature=0.0).with_structured_output(Parcours)\n",
                "\n",
                "chain = def_prompt(system=system, user=user) | llm_with_output\n",
                "summaries = chain.batch([{\"fiche\": page_cleaned}], {\"max_concurrency\": 5})"
            ]
        },
        {
            "cell_type": "code",
            "execution_count": null,
            "metadata": {},
            "outputs": [],
            "source": [
                "print(summaries)"
            ]
        }
    ],
    "metadata": {
        "kernelspec": {
            "display_name": "genai-blueprint (3.12.3)",
            "language": "python",
            "name": "python3"
        },
        "language_info": {
            "codemirror_mode": {
                "name": "ipython",
                "version": 3
            },
            "file_extension": ".py",
            "mimetype": "text/x-python",
            "name": "python",
            "nbconvert_exporter": "python",
            "pygments_lexer": "ipython3",
            "version": "3.12.3"
        }
    },
    "nbformat": 4,
    "nbformat_minor": 2
}