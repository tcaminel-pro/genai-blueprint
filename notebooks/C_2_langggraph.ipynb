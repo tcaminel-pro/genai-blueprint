{
 "cells": [
  {
   "cell_type": "markdown",
   "metadata": {},
   "source": [
    "# Fibonacci sequence with LangGraph\n",
    "## Reminder :\n",
    "- F0 = 0  \n",
    "- F1 = 1 \n",
    "- Fn = Fn-1 + Fn-2\n",
    "\n",
    "## Calculation with a State Machine :\n",
    "\n",
    "```\n",
    "States (Nodes):\n",
    "Initial State (Start): The starting state before any calculation begins.\n",
    "currentState = Start\n",
    "a = 0\n",
    "b = 1\n",
    "counter = 0\n",
    "\n",
    "while (currentState != End) {\n",
    "    if (currentState == Start) {\n",
    "        currentState = Calculate\n",
    "    } else if (currentState == Calculate) {\n",
    "        display a\n",
    "        next_termTerm = a + b\n",
    "        if (counter >= n) {\n",
    "            currentState = End\n",
    "        } else {\n",
    "            currentState = Update\n",
    "        }\n",
    "    } else if (currentState == Update) {\n",
    "        a = b\n",
    "        b = next_termTerm\n",
    "        counter = counter + 1\n",
    "        currentState = Calculate\n",
    "    }\n",
    "}\n",
    "```\n",
    "\n",
    "## State machine implementation with LangGraph :"
   ]
  },
  {
   "cell_type": "code",
   "execution_count": 1,
   "metadata": {},
   "outputs": [],
   "source": [
    "from typing import Literal, TypedDict\n",
    "\n",
    "from IPython.display import Image\n",
    "from langchain_core.runnables import chain\n",
    "from langgraph.graph import END, StateGraph\n",
    "from rich import print  # noqa: F401\n",
    "\n",
    "\n",
    "class State(TypedDict, total=False):\n",
    "    \"\"\"State of the calculation.\n",
    "    'total=False' because LangGraph allows that only the fields that have changed can be returned.\n",
    "    \"\"\"\n",
    "\n",
    "    a: int\n",
    "    b: int\n",
    "    next_term: int\n",
    "    counter: int\n",
    "    sequence: list[int]\n",
    "    n: int\n",
    "\n",
    "\n",
    "workflow = StateGraph(State)\n",
    "\n",
    "\n",
    "@chain\n",
    "def init_node(_: State) -> State:\n",
    "    return {\"a\": 0, \"b\": 1, \"counter\": 0, \"sequence\": [0, 1]}\n",
    "\n",
    "\n",
    "@chain\n",
    "def calculate_node(state: State) -> State:\n",
    "    next_term = state[\"a\"] + state[\"b\"]\n",
    "    return {\n",
    "        \"next_term\": next_term,\n",
    "        \"sequence\": state[\"sequence\"] + [next_term],\n",
    "    }\n",
    "\n",
    "\n",
    "@chain\n",
    "def next_state(state: State) -> Literal[\"update\", \"finish\"]:\n",
    "    if state[\"counter\"] < state[\"n\"]:\n",
    "        return \"update\"\n",
    "    else:\n",
    "        return \"finish\"\n",
    "\n",
    "\n",
    "@chain\n",
    "def update_node(state: State) -> State:\n",
    "    return {\n",
    "        \"a\": state[\"b\"],\n",
    "        \"b\": state[\"next_term\"],\n",
    "        \"counter\": state[\"counter\"] + 1,\n",
    "    }\n",
    "\n",
    "\n",
    "# Define the graph\n",
    "workflow.add_node(\"init\", init_node)\n",
    "workflow.add_node(\"calculate\", calculate_node)\n",
    "workflow.add_node(\"update\", update_node)\n",
    "\n",
    "workflow.set_entry_point(\"init\")\n",
    "workflow.add_edge(\"init\", \"calculate\")\n",
    "workflow.add_conditional_edges(\n",
    "    \"calculate\",\n",
    "    next_state,\n",
    "    {\n",
    "        \"update\": \"update\",\n",
    "        \"finish\": END,\n",
    "    },\n",
    ")\n",
    "workflow.add_edge(\"update\", \"calculate\")\n",
    "\n",
    "\n",
    "app = workflow.compile()"
   ]
  },
  {
   "cell_type": "code",
   "execution_count": 2,
   "metadata": {},
   "outputs": [
    {
     "data": {
      "text/html": [
       "<pre style=\"white-space:pre;overflow-x:auto;line-height:normal;font-family:Menlo,'DejaVu Sans Mono',consolas,'Courier New',monospace\"><span style=\"font-weight: bold\">[</span><span style=\"color: #008080; text-decoration-color: #008080; font-weight: bold\">0</span>, <span style=\"color: #008080; text-decoration-color: #008080; font-weight: bold\">1</span>, <span style=\"color: #008080; text-decoration-color: #008080; font-weight: bold\">1</span>, <span style=\"color: #008080; text-decoration-color: #008080; font-weight: bold\">2</span>, <span style=\"color: #008080; text-decoration-color: #008080; font-weight: bold\">3</span>, <span style=\"color: #008080; text-decoration-color: #008080; font-weight: bold\">5</span>, <span style=\"color: #008080; text-decoration-color: #008080; font-weight: bold\">8</span>, <span style=\"color: #008080; text-decoration-color: #008080; font-weight: bold\">13</span><span style=\"font-weight: bold\">]</span>\n",
       "</pre>\n"
      ],
      "text/plain": [
       "\u001b[1m[\u001b[0m\u001b[1;36m0\u001b[0m, \u001b[1;36m1\u001b[0m, \u001b[1;36m1\u001b[0m, \u001b[1;36m2\u001b[0m, \u001b[1;36m3\u001b[0m, \u001b[1;36m5\u001b[0m, \u001b[1;36m8\u001b[0m, \u001b[1;36m13\u001b[0m\u001b[1m]\u001b[0m\n"
      ]
     },
     "metadata": {},
     "output_type": "display_data"
    }
   ],
   "source": [
    "# Test...\n",
    "out = app.invoke({\"n\": 5})\n",
    "print(out[\"sequence\"])"
   ]
  },
  {
   "cell_type": "code",
   "execution_count": null,
   "metadata": {},
   "outputs": [],
   "source": [
    "out"
   ]
  },
  {
   "cell_type": "code",
   "execution_count": 3,
   "metadata": {},
   "outputs": [
    {
     "data": {
      "text/html": [
       "<pre style=\"white-space:pre;overflow-x:auto;line-height:normal;font-family:Menlo,'DejaVu Sans Mono',consolas,'Courier New',monospace\"><span style=\"color: #008080; text-decoration-color: #008080; font-weight: bold\">1</span> </pre>\n"
      ],
      "text/plain": [
       "\u001b[1;36m1\u001b[0m "
      ]
     },
     "metadata": {},
     "output_type": "display_data"
    },
    {
     "data": {
      "text/html": [
       "<pre style=\"white-space:pre;overflow-x:auto;line-height:normal;font-family:Menlo,'DejaVu Sans Mono',consolas,'Courier New',monospace\"><span style=\"color: #008080; text-decoration-color: #008080; font-weight: bold\">2</span> </pre>\n"
      ],
      "text/plain": [
       "\u001b[1;36m2\u001b[0m "
      ]
     },
     "metadata": {},
     "output_type": "display_data"
    },
    {
     "data": {
      "text/html": [
       "<pre style=\"white-space:pre;overflow-x:auto;line-height:normal;font-family:Menlo,'DejaVu Sans Mono',consolas,'Courier New',monospace\"><span style=\"color: #008080; text-decoration-color: #008080; font-weight: bold\">3</span> </pre>\n"
      ],
      "text/plain": [
       "\u001b[1;36m3\u001b[0m "
      ]
     },
     "metadata": {},
     "output_type": "display_data"
    },
    {
     "data": {
      "text/html": [
       "<pre style=\"white-space:pre;overflow-x:auto;line-height:normal;font-family:Menlo,'DejaVu Sans Mono',consolas,'Courier New',monospace\"><span style=\"color: #008080; text-decoration-color: #008080; font-weight: bold\">5</span> </pre>\n"
      ],
      "text/plain": [
       "\u001b[1;36m5\u001b[0m "
      ]
     },
     "metadata": {},
     "output_type": "display_data"
    },
    {
     "data": {
      "text/html": [
       "<pre style=\"white-space:pre;overflow-x:auto;line-height:normal;font-family:Menlo,'DejaVu Sans Mono',consolas,'Courier New',monospace\"><span style=\"color: #008080; text-decoration-color: #008080; font-weight: bold\">8</span> </pre>\n"
      ],
      "text/plain": [
       "\u001b[1;36m8\u001b[0m "
      ]
     },
     "metadata": {},
     "output_type": "display_data"
    },
    {
     "data": {
      "text/html": [
       "<pre style=\"white-space:pre;overflow-x:auto;line-height:normal;font-family:Menlo,'DejaVu Sans Mono',consolas,'Courier New',monospace\"><span style=\"color: #008080; text-decoration-color: #008080; font-weight: bold\">13</span> </pre>\n"
      ],
      "text/plain": [
       "\u001b[1;36m13\u001b[0m "
      ]
     },
     "metadata": {},
     "output_type": "display_data"
    },
    {
     "data": {
      "text/html": [
       "<pre style=\"white-space:pre;overflow-x:auto;line-height:normal;font-family:Menlo,'DejaVu Sans Mono',consolas,'Courier New',monospace\"><span style=\"color: #008080; text-decoration-color: #008080; font-weight: bold\">21</span> </pre>\n"
      ],
      "text/plain": [
       "\u001b[1;36m21\u001b[0m "
      ]
     },
     "metadata": {},
     "output_type": "display_data"
    },
    {
     "data": {
      "text/html": [
       "<pre style=\"white-space:pre;overflow-x:auto;line-height:normal;font-family:Menlo,'DejaVu Sans Mono',consolas,'Courier New',monospace\"><span style=\"color: #008080; text-decoration-color: #008080; font-weight: bold\">34</span> </pre>\n"
      ],
      "text/plain": [
       "\u001b[1;36m34\u001b[0m "
      ]
     },
     "metadata": {},
     "output_type": "display_data"
    },
    {
     "data": {
      "text/html": [
       "<pre style=\"white-space:pre;overflow-x:auto;line-height:normal;font-family:Menlo,'DejaVu Sans Mono',consolas,'Courier New',monospace\"><span style=\"color: #008080; text-decoration-color: #008080; font-weight: bold\">55</span> </pre>\n"
      ],
      "text/plain": [
       "\u001b[1;36m55\u001b[0m "
      ]
     },
     "metadata": {},
     "output_type": "display_data"
    },
    {
     "data": {
      "text/html": [
       "<pre style=\"white-space:pre;overflow-x:auto;line-height:normal;font-family:Menlo,'DejaVu Sans Mono',consolas,'Courier New',monospace\"><span style=\"color: #008080; text-decoration-color: #008080; font-weight: bold\">89</span> </pre>\n"
      ],
      "text/plain": [
       "\u001b[1;36m89\u001b[0m "
      ]
     },
     "metadata": {},
     "output_type": "display_data"
    },
    {
     "data": {
      "text/html": [
       "<pre style=\"white-space:pre;overflow-x:auto;line-height:normal;font-family:Menlo,'DejaVu Sans Mono',consolas,'Courier New',monospace\"><span style=\"color: #008080; text-decoration-color: #008080; font-weight: bold\">144</span> </pre>\n"
      ],
      "text/plain": [
       "\u001b[1;36m144\u001b[0m "
      ]
     },
     "metadata": {},
     "output_type": "display_data"
    }
   ],
   "source": [
    "#  Test in streaming (correct missing initial values if you want..=\n",
    "for output in app.stream({\"n\": 10}, {\"recursion_limit\": 30}):\n",
    "    for key, value in output.items():\n",
    "        if key == \"calculate\":\n",
    "            print(value[\"next_term\"], end=\" \")"
   ]
  },
  {
   "cell_type": "code",
   "execution_count": 4,
   "metadata": {},
   "outputs": [
    {
     "data": {
      "text/html": [
       "<pre style=\"white-space:pre;overflow-x:auto;line-height:normal;font-family:Menlo,'DejaVu Sans Mono',consolas,'Courier New',monospace\">        +-----------+          \n",
       "        | __start__ |          \n",
       "        +-----------+          \n",
       "               *               \n",
       "               *               \n",
       "               *               \n",
       "           +------+            \n",
       "           | init |            \n",
       "           +------+            \n",
       "               *               \n",
       "               *               \n",
       "               *               \n",
       "        +-----------+          \n",
       "        | calculate |          \n",
       "        +-----------+          \n",
       "          .        *           \n",
       "        ..          **         \n",
       "       .              *        \n",
       "+---------+        +--------+  \n",
       "| __end__ |        | update |  \n",
       "+---------+        +--------+  \n",
       "</pre>\n"
      ],
      "text/plain": [
       "        +-----------+          \n",
       "        | __start__ |          \n",
       "        +-----------+          \n",
       "               *               \n",
       "               *               \n",
       "               *               \n",
       "           +------+            \n",
       "           | init |            \n",
       "           +------+            \n",
       "               *               \n",
       "               *               \n",
       "               *               \n",
       "        +-----------+          \n",
       "        | calculate |          \n",
       "        +-----------+          \n",
       "          .        *           \n",
       "        ..          **         \n",
       "       .              *        \n",
       "+---------+        +--------+  \n",
       "| __end__ |        | update |  \n",
       "+---------+        +--------+  \n"
      ]
     },
     "metadata": {},
     "output_type": "display_data"
    }
   ],
   "source": [
    "print(app.get_graph().draw_ascii())"
   ]
  },
  {
   "cell_type": "markdown",
   "metadata": {},
   "source": []
  },
  {
   "cell_type": "markdown",
   "metadata": {},
   "source": [
    "Look at https://python.langchain.com/v0.2/docs/how_to/lcel_cheatsheet/  for more."
   ]
  },
  {
   "cell_type": "code",
   "execution_count": 5,
   "metadata": {},
   "outputs": [
    {
     "data": {
      "image/png": "[encoded data removed]",
      "text/plain": [
       "<IPython.core.display.Image object>"
      ]
     },
     "execution_count": 5,
     "metadata": {},
     "output_type": "execute_result"
    }
   ],
   "source": [
    "img = app.get_graph().draw_mermaid_png()\n",
    "Image(img)"
   ]
  },
  {
   "cell_type": "markdown",
   "metadata": {},
   "source": [
    "## Graph display with Graphviz (optional)\n",
    "Need graphviz and pygraphviz installed  <br>\n",
    "```code\n",
    "    sudo apt-get install graphviz graphviz-dev\n",
    "    uv add pygraphviz\n"
   ]
  },
  {
   "cell_type": "markdown",
   "metadata": {},
   "source": [
    "### Exercise : \n",
    "- Check that 'n' is greater than 1, else print a message.\n",
    "    - hint: use ```workflow.set_conditional_entry_point(...  ```\n",
    "- Have a and b as parameter of the chain . For example, calculate  Lucas Numbers (a=2, b=1, 3, 4, 7, 11, 18, 29,....)"
   ]
  },
  {
   "cell_type": "markdown",
   "metadata": {},
   "source": []
  },
  {
   "cell_type": "markdown",
   "metadata": {},
   "source": [
    "#  Texte en Gras\n",
    "\n",
    "- liste 1\n",
    "- liste 2"
   ]
  }
 ],
 "metadata": {
  "kernelspec": {
   "display_name": "genai-blueprint (3.12.3)",
   "language": "python",
   "name": "python3"
  },
  "language_info": {
   "codemirror_mode": {
    "name": "ipython",
    "version": 3
   },
   "file_extension": ".py",
   "mimetype": "text/x-python",
   "name": "python",
   "nbconvert_exporter": "python",
   "pygments_lexer": "ipython3",
   "version": "3.12.3"
  }
 },
 "nbformat": 4,
 "nbformat_minor": 2
}
