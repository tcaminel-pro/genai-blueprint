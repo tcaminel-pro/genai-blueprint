{
 "cells": [
  {
   "cell_type": "markdown",
   "metadata": {},
   "source": [
    "# LLM Joke (First LLM calls)\n",
    "\n",
    "This notebook demonstrates basic interactions with Language Models (LLMs) through:\n",
    "\n",
    "1. Configuring and selecting different LLM providers\n",
    "2. Sending prompts and receiving responses\n",
    "3. Dynamically switching between LLM models\n",
    "\n",
    "We'll use simple joke requests to test the LLM capabilities."
   ]
  },
  {
   "cell_type": "code",
   "execution_count": null,
   "metadata": {},
   "outputs": [],
   "source": [
    "# Default Setup Cell.\n",
    "# It imports environment variables, define 'devtools.debug\" as a buildin, set PYTHONPATH and autorelaod\n",
    "# Copy it in other Notebooks\n",
    "\n",
    "\n",
    "from dotenv import load_dotenv\n",
    "from rich import print\n",
    "\n",
    "load_dotenv(verbose=True)\n",
    "\n",
    "%load_ext autoreload\n",
    "%autoreload 2\n",
    "%reset -f"
   ]
  },
  {
   "cell_type": "markdown",
   "metadata": {},
   "source": [
    "### LLM Factory\n",
    "\n",
    "Our `LlmFactory` class provides a centralized way to:\n",
    "\n",
    "- Configure different LLM providers\n",
    "- Manage API keys and settings\n",
    "- Switch between models easily\n",
    "\n",
    "Let's see what models are available:"
   ]
  },
  {
   "cell_type": "code",
   "execution_count": null,
   "metadata": {},
   "outputs": [],
   "source": [
    "from src.ai_core.llm_factory import LlmFactory, get_llm\n",
    "\n",
    "LlmFactory.known_list()"
   ]
  },
  {
   "cell_type": "markdown",
   "metadata": {},
   "source": [
    "### Selecting an LLM\n",
    "\n",
    "We can either:\n",
    "1. Get the default LLM with basic configuration\n",
    "2. Select a specific model by ID\n",
    "\n",
    "The factory handles all the provider-specific setup for us."
   ]
  },
  {
   "cell_type": "code",
   "execution_count": null,
   "metadata": {},
   "outputs": [],
   "source": [
    "# Get the default LLM. We can configure the temperature, cache, max_token, ...\n",
    "\n",
    "\n",
    "llm_default = get_llm(temperature=0.5)\n",
    "print(llm_default)\n",
    "\n",
    "# or get a given LLM;\n",
    "gpt4o = LlmFactory(llm_id=\"gpt_4o_edenai\").get()  # Might NOT work if you din't have the API key\n",
    "\n",
    "# or select by tag;\n",
    "fake = LlmFactory(llm_tag=\"fake\").get()  "
   ]
  },
  {
   "cell_type": "markdown",
   "metadata": {},
   "source": [
    "### Sending Prompts\n",
    "\n",
    "Now let's send our first prompt to the LLM.\n",
    "\n",
    "We'll use the `invoke()` method which:\n",
    "- Takes a string prompt\n",
    "- Returns the model's response\n",
    "- Handles all the API communication\n",
    "\n",
    "We'll ask for a joke to test the model's creativity."
   ]
  },
  {
   "cell_type": "markdown",
   "metadata": {},
   "source": []
  },
  {
   "cell_type": "code",
   "execution_count": null,
   "metadata": {},
   "outputs": [],
   "source": [
    "from rich import print"
   ]
  },
  {
   "cell_type": "code",
   "execution_count": null,
   "metadata": {},
   "outputs": [],
   "source": [
    "joke1 = gpt4o.invoke(\"tell me a sad joke\")\n",
    "print(joke1)\n"
   ]
  }
 ],
 "metadata": {
  "kernelspec": {
   "display_name": "genai-blueprint (3.12.3)",
   "language": "python",
   "name": "python3"
  },
  "language_info": {
   "codemirror_mode": {
    "name": "ipython",
    "version": 3
   },
   "file_extension": ".py",
   "mimetype": "text/x-python",
   "name": "python",
   "nbconvert_exporter": "python",
   "pygments_lexer": "ipython3",
   "version": "3.12.3"
  }
 },
 "nbformat": 4,
 "nbformat_minor": 2
}
