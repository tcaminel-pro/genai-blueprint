{
    "cells": [
        {
            "cell_type": "markdown",
            "metadata": {},
            "source": [
                "# Custom Knowledge Graph Pipeline Notebook\n",
                "This notebook walks through building and querying a custom knowledge graph using Cognee. It mirrors the pipeline from `build_graph.py` but in an interactive Jupyter format.\n",
                "\n",
                "Taken from : https://docs.cognee.ai/how-to-guides/cognee-sdk/define-custom-entities-low-level-api \n"
            ]
        },
        {
            "cell_type": "markdown",
            "metadata": {},
            "source": []
        },
        {
            "cell_type": "code",
            "execution_count": null,
            "metadata": {},
            "outputs": [],
            "source": [
                "# The usual import\n",
                "%load_ext autoreload\n",
                "%autoreload 2\n",
                "%reset -f\n",
                "\n",
                "import sys\n",
                "\n",
                "from devtools import debug  # noqa: F401  # noqa: F811\n",
                "from dotenv import load_dotenv\n",
                "from rich import print  # noqa: F401\n",
                "\n",
                "assert load_dotenv(verbose=True)\n",
                "\n",
                "sys.path.append(\".\")"
            ]
        },
        {
            "cell_type": "markdown",
            "metadata": {},
            "source": [
                "## 1. Install and Import Dependencies"
            ]
        },
        {
            "cell_type": "code",
            "execution_count": null,
            "metadata": {},
            "outputs": [],
            "source": [
                "import asyncio\n",
                "import os\n",
                "import uuid\n",
                "from pathlib import Path\n",
                "\n",
                "import cognee\n",
                "from cognee import SearchType, config, prune, search, visualize_graph\n",
                "from cognee.low_level import DataPoint, setup\n",
                "from cognee.modules.users.methods import get_default_user\n",
                "from cognee.pipelines import Task, run_tasks\n",
                "from cognee.tasks.storage import add_data_points\n",
                "from cognee.tasks.storage.index_graph_edges import index_graph_edges\n",
                "\n",
                "# from genai_tk.extra.cognee_utils import set_embeddings_config, set_llm_config"
            ]
        },
        {
            "cell_type": "code",
            "execution_count": null,
            "metadata": {},
            "outputs": [],
            "source": []
        },
        {
            "cell_type": "markdown",
            "metadata": {},
            "source": [
                "## 2. Define DataPoint Classes"
            ]
        },
        {
            "cell_type": "code",
            "execution_count": null,
            "metadata": {},
            "outputs": [],
            "source": [
                "class Person(DataPoint):\n",
                "    \"\"\"Represents an individual employee\"\"\"\n",
                "\n",
                "    name: str\n",
                "    metadata: dict = {\"index_fields\": [\"name\"]}\n",
                "\n",
                "\n",
                "class Department(DataPoint):\n",
                "    \"\"\"Represents a company department with employees\"\"\"\n",
                "\n",
                "    name: str\n",
                "    employees: list[Person]\n",
                "    metadata: dict = {\"index_fields\": [\"name\"]}\n",
                "\n",
                "\n",
                "class CompanyType(DataPoint):\n",
                "    \"\"\"Represents the type/category of companies\"\"\"\n",
                "\n",
                "    name: str = \"Company\"\n",
                "\n",
                "\n",
                "class Company(DataPoint):\n",
                "    \"\"\"Represents a company with departments and type classification\"\"\"\n",
                "\n",
                "    name: str\n",
                "    departments: list[Department]\n",
                "    is_type: CompanyType\n",
                "    metadata: dict = {\"index_fields\": [\"name\"]}"
            ]
        },
        {
            "cell_type": "markdown",
            "metadata": {},
            "source": [
                "## 3. Ingest Data Function"
            ]
        },
        {
            "cell_type": "code",
            "execution_count": null,
            "metadata": {},
            "outputs": [],
            "source": [
                "def ingest_files(data=None):\n",
                "    \"\"\"Load and process JSON data into DataPoint instances\"\"\"\n",
                "    # Company data\n",
                "    companies = [\n",
                "        {\"name\": \"TechCorp Solutions\", \"departments\": [\"Engineering\", \"Marketing\", \"Sales\"]},\n",
                "        {\"name\": \"GreenFuture Solutions\", \"departments\": [\"Research\", \"Engineering\", \"Operations\"]},\n",
                "        {\"name\": \"DataFlow Analytics\", \"departments\": [\"Data Science\", \"Engineering\", \"Customer Success\"]},\n",
                "    ]\n",
                "\n",
                "    # People data\n",
                "    people = [\n",
                "        {\"name\": \"Alice Johnson\", \"department\": \"Engineering\"},\n",
                "        {\"name\": \"Bob Smith\", \"department\": \"Engineering\"},\n",
                "        {\"name\": \"Carol Davis\", \"department\": \"Marketing\"},\n",
                "        {\"name\": \"David Wilson\", \"department\": \"Sales\"},\n",
                "        {\"name\": \"Eve Brown\", \"department\": \"Research\"},\n",
                "        {\"name\": \"Frank Miller\", \"department\": \"Operations\"},\n",
                "        {\"name\": \"Grace Lee\", \"department\": \"Data Science\"},\n",
                "        {\"name\": \"Henry Chen\", \"department\": \"Customer Success\"},\n",
                "        {\"name\": \"Ivy Rodriguez\", \"department\": \"Engineering\"},\n",
                "        {\"name\": \"Jack Thompson\", \"department\": \"Marketing\"},\n",
                "    ]\n",
                "\n",
                "    # Create person DataPoints and organize by department\n",
                "    people_data_points = {}\n",
                "    departments_data_points = {}\n",
                "\n",
                "    print(\"🔄 Processing employee data...\")\n",
                "    for person in people:\n",
                "        new_person = Person(name=person[\"name\"])\n",
                "        people_data_points[person[\"name\"]] = new_person\n",
                "\n",
                "        # Group employees by department\n",
                "        if person[\"department\"] not in departments_data_points:\n",
                "            departments_data_points[person[\"department\"]] = Department(\n",
                "                name=person[\"department\"], employees=[new_person]\n",
                "            )\n",
                "        else:\n",
                "            departments_data_points[person[\"department\"]].employees.append(new_person)\n",
                "\n",
                "    # Create company DataPoints\n",
                "    companies_data_points = {}\n",
                "\n",
                "    # Create a single CompanyType node for all companies\n",
                "    print(\"🏢 Creating company type classification...\")\n",
                "    companyType = CompanyType()\n",
                "\n",
                "    print(\"🔄 Processing company data...\")\n",
                "    for company in companies:\n",
                "        new_company = Company(name=company[\"name\"], departments=[], is_type=companyType)\n",
                "        companies_data_points[company[\"name\"]] = new_company\n",
                "\n",
                "        # Link departments to companies\n",
                "        for department_name in company[\"departments\"]:\n",
                "            if department_name not in departments_data_points:\n",
                "                departments_data_points[department_name] = Department(name=department_name, employees=[])\n",
                "\n",
                "            new_company.departments.append(departments_data_points[department_name])\n",
                "\n",
                "    print(f\"✅ Created {len(companies_data_points)} companies with {len(departments_data_points)} departments\")\n",
                "    return list(companies_data_points.values())"
            ]
        },
        {
            "cell_type": "markdown",
            "metadata": {},
            "source": [
                "## 4. Setup Cognee System"
            ]
        },
        {
            "cell_type": "code",
            "execution_count": null,
            "metadata": {},
            "outputs": [],
            "source": [
                "# Setup Cognee system directory\n",
                "from genai_tk.extra.cognee_utils import set_cognee_config\n",
                "\n",
                "cognee_directory_path = str(Path(\".cognee_system\").resolve())\n",
                "config.system_root_directory(cognee_directory_path)\n",
                "\n",
                "# Configure LLM\n",
                "\n",
                "LLM_ID = \"gpt_4omini_openai\"\n",
                "EMBEDDINGS_ID = \"ada_002_openai\"\n",
                "\n",
                "\n",
                "set_cognee_config(llm_id=LLM_ID, embeddings_id=EMBEDDINGS_ID)\n",
                "\n",
                "\n",
                "print(\"🧹 Cleaning up previous runs...\")\n",
                "await prune.prune_system(metadata=True)\n",
                "\n",
                "print(\"⚙️ Setting up Cognee system...\")\n",
                "await setup()"
            ]
        },
        {
            "cell_type": "code",
            "execution_count": null,
            "metadata": {},
            "outputs": [],
            "source": [
                "await cognee.add(\"hello world\")\n",
                "await cognee.cognify()  # Respects rate limits automatically"
            ]
        },
        {
            "cell_type": "markdown",
            "metadata": {},
            "source": [
                "## 5. Create Dataset"
            ]
        },
        {
            "cell_type": "code",
            "execution_count": null,
            "metadata": {},
            "outputs": [],
            "source": [
                "from cognee.infrastructure.databases.relational import get_relational_engine\n",
                "from cognee.modules.data.models import Dataset\n",
                "\n",
                "dataset_id = uuid.uuid4()\n",
                "user = await get_default_user()\n",
                "if user is None:\n",
                "    raise RuntimeError(\"Failed to load default user. Make sure the database is seeded.\")\n",
                "\n",
                "db_engine = get_relational_engine()\n",
                "async with db_engine.get_async_session() as session:\n",
                "    dataset = await session.get(Dataset, dataset_id)\n",
                "    if dataset is None:\n",
                "        dataset = Dataset(\n",
                "            id=dataset_id,\n",
                "            name=\"custom_graph_pipeline\",\n",
                "            owner_id=user.id,\n",
                "        )\n",
                "        session.add(dataset)\n",
                "        await session.commit()\n",
                "print(\"✅ Dataset created with ID:\", dataset_id)"
            ]
        },
        {
            "cell_type": "markdown",
            "metadata": {},
            "source": [
                "## 6. Run Pipeline"
            ]
        },
        {
            "cell_type": "code",
            "execution_count": null,
            "metadata": {},
            "outputs": [],
            "source": [
                "print(\"🚀 Running custom data pipeline...\")\n",
                "pipeline = run_tasks(\n",
                "    [\n",
                "        Task(ingest_files),  # Load and process data\n",
                "        Task(add_data_points),  # Add to Cognee storage\n",
                "    ],\n",
                "    dataset_id,\n",
                "    None,\n",
                "    user,\n",
                "    \"custom_graph_pipeline\",\n",
                ")\n",
                "\n",
                "async for status in pipeline:\n",
                "    print(f\"📊 Pipeline status: {status}\")"
            ]
        },
        {
            "cell_type": "markdown",
            "metadata": {},
            "source": [
                "## 7. Index Graph Edges"
            ]
        },
        {
            "cell_type": "code",
            "execution_count": null,
            "metadata": {},
            "outputs": [],
            "source": [
                "print(\"🔗 Indexing graph relationships...\")\n",
                "await index_graph_edges()"
            ]
        },
        {
            "cell_type": "markdown",
            "metadata": {},
            "source": [
                "## 8. Visualize Graph"
            ]
        },
        {
            "cell_type": "code",
            "execution_count": null,
            "metadata": {},
            "outputs": [],
            "source": [
                "import os\n",
                "\n",
                "graph_file_path = str(os.path.join(os.getcwd(), \"graph_visualization.html\"))\n",
                "await visualize_graph(graph_file_path)\n",
                "print(f\"📈 Graph visualization saved to: {graph_file_path}\")"
            ]
        },
        {
            "cell_type": "code",
            "execution_count": null,
            "metadata": {},
            "outputs": [],
            "source": [
                "# from cognee.shared.utils import render_graph\n",
                "\n",
                "# from cognee.utils import render_graph\n",
                "# import graphistry\n",
                "\n",
                "# # Setting an environment variable\n",
                "# os.environ[\"GRAPHISTRY_USERNAME\"] = YOUR GRAPHISTRY USERNAME\n",
                "# os.environ[\"GRAPHISTRY_PASSWORD\"] = YOUR GRAPHISTRY PASSWORD\n",
                "\n",
                "# graphistry.login(api=3, username=os.getenv[\"GRAPHISTRY_USERNAME\"], password=os.getenv[\"GRAPHISTRY_PASSWORD\"])\n",
                "\n",
                "# graph_url = await render_graph(graph)\n",
                "# print(graph_url)\n",
                "# url = await render_graph()\n",
                "# print(f\"Graphistry URL: {url}\")"
            ]
        },
        {
            "cell_type": "markdown",
            "metadata": {},
            "source": [
                "## 9. Query the Graph"
            ]
        },
        {
            "cell_type": "code",
            "execution_count": null,
            "metadata": {},
            "outputs": [],
            "source": [
                "queries = [\n",
                "    \"Who works for GreenFuture Solutions?\",\n",
                "    \"Which departments does TechCorp Solutions have?\",\n",
                "    \"List all employees in the Engineering department\",\n",
                "    \"What companies have Research departments?\",\n",
                "]\n",
                "\n",
                "for query in queries:\n",
                "    print(f\"\\n🤔 Query: {query}\")\n",
                "    completion = await search(\n",
                "        query_text=query,\n",
                "        query_type=SearchType.GRAPH_COMPLETION,\n",
                "    )\n",
                "    print(f\"💡 Answer: {completion}\")\n",
                "print(\"✅ Custom knowledge graph pipeline completed successfully!\")"
            ]
        }
    ],
    "metadata": {
        "kernelspec": {
            "display_name": "genai-blueprint (3.12.3)",
            "language": "python",
            "name": "python3"
        },
        "language_info": {
            "codemirror_mode": {
                "name": "ipython",
                "version": 3
            },
            "file_extension": ".py",
            "mimetype": "text/x-python",
            "name": "python",
            "nbconvert_exporter": "python",
            "pygments_lexer": "ipython3",
            "version": "3.12.3"
        }
    },
    "nbformat": 4,
    "nbformat_minor": 4
}