{
    "cells": [
        {
            "cell_type": "markdown",
            "metadata": {},
            "source": [
                "# Code Agents with `smolagents 🤗`\n",
                "\n",
                "This notebook demonstrates how to use `smolagents` to create and run different types of AI agents.\n",
                "\n",
                "We'll cover:\n",
                "- Basic code agents\n",
                "- Tool-calling agents\n",
                "- RAG systems\n",
                "- Web interaction\n",
                "- SQL query generation\n",
                "\n",
                "`smolagents` provides a lightweight framework for building agents that can execute code and use tools."
            ]
        },
        {
            "cell_type": "markdown",
            "metadata": {},
            "source": [
                "## Setup Environment\n",
                "\n",
                "First we configure the environment:\n",
                "- Load environment variables (API keys, etc)\n",
                "- Enable automatic reloading for development\n",
                "- Import required libraries\n",
                "- Reset the notebook state"
            ]
        },
        {
            "cell_type": "code",
            "execution_count": null,
            "metadata": {},
            "outputs": [],
            "source": [
                "# Default Setup Cell.\n",
                "# It imports environment variables, define 'devtools.debug\" as a buildin, set PYTHONPATH and autorelaod\n",
                "# Copy it in other Notebooks\n",
                "\n",
                "\n",
                "from dotenv import load_dotenv\n",
                "from rich import print\n",
                "\n",
                "load_dotenv(verbose=True)\n",
                "\n",
                "%load_ext autoreload\n",
                "%autoreload 2\n",
                "%reset -f"
            ]
        },
        {
            "cell_type": "code",
            "execution_count": null,
            "metadata": {},
            "outputs": [],
            "source": [
                "from typing import Optional\n",
                "\n",
                "from genai_blueprint.utils.config_mngr import global_config_reload\n",
                "from genai_tk.core.llm_factory import LlmFactory\n",
                "from IPython.display import Markdown, display\n",
                "from smolagents import (\n",
                "    CodeAgent,\n",
                "    ToolCallingAgent,\n",
                "    VisitWebpageTool,\n",
                "    WebSearchTool,\n",
                "    tool,\n",
                ")\n",
                "\n",
                "global_config_reload()\n",
                "\n",
                "MODEL_ID = None\n",
                "# llm_factory = LlmFactory(llm_id=MODEL_ID, llm_params={\"temperature\": 0.7})\n",
                "llm_factory = LlmFactory(llm_tag=\"azure\", llm_params={\"temperature\": 0.7})\n",
                "llm = llm_factory.get_smolagent_model()\n",
                "print(f\"Using model: {llm_factory.get_id()}\")"
            ]
        },
        {
            "cell_type": "markdown",
            "metadata": {},
            "source": [
                "## Basic Code Agent\n",
                "\n",
                "Let's create a simple code agent that can:\n",
                "- Answer questions\n",
                "- Use web search when needed\n",
                "- Execute Python code\n",
                "\n",
                "We'll ask it to calculate how long it would take a leopard to run across a famous Paris bridge."
            ]
        },
        {
            "cell_type": "code",
            "execution_count": null,
            "metadata": {},
            "outputs": [],
            "source": [
                "agent = CodeAgent(tools=[WebSearchTool()], model=llm)\n",
                "agent.run(\"How many seconds would it take for a leopard at full speed to run through Pont des Arts?\")"
            ]
        },
        {
            "cell_type": "markdown",
            "metadata": {},
            "source": [
                "## Tool-Calling Agent\n",
                "\n",
                "Now we'll create an agent that can call custom tools.\n",
                "\n",
                "We define a simple weather tool that:\n",
                "- Takes a location as input\n",
                "- Returns a fixed weather report\n",
                "\n",
                "The agent will decide when to use this tool based on the query."
            ]
        },
        {
            "cell_type": "code",
            "execution_count": null,
            "metadata": {},
            "outputs": [],
            "source": [
                "@tool\n",
                "def get_weather(location: str, celsius: Optional[bool] = False) -> str:\n",
                "    \"\"\"Get weather in the next days at given location.\n",
                "    Secretly this tool does not care about the location, it hates the weather everywhere.\n",
                "\n",
                "    Args:\n",
                "        location: the location\n",
                "        celsius: the temperature\n",
                "    \"\"\"\n",
                "    return \"The weather is UNGODLY with torrential rains and temperatures below -10°C\"\n",
                "\n",
                "\n",
                "agent = ToolCallingAgent(tools=[get_weather], model=llm)\n",
                "print(agent.run(\"What's the weather like in Paris?\"))"
            ]
        },
        {
            "cell_type": "markdown",
            "metadata": {},
            "source": [
                "## RAG System\n",
                "\n",
                "Here we combine `smolagents` with LangChain to create a Retrieval Augmented Generation (RAG) system that:\n",
                "\n",
                "1. Loads and chunks a text document\n",
                "2. Stores it in a vector store\n",
                "3. Creates a retriever tool\n",
                "4. Uses an agent to answer questions based on the document\n",
                "\n",
                "We'll use the US State of the Union address as our test document."
            ]
        },
        {
            "cell_type": "code",
            "execution_count": null,
            "metadata": {},
            "outputs": [],
            "source": [
                "from genai_tk.core.embeddings_factory import EmbeddingsFactory\n",
                "from genai_tk.core.vector_store_registry import VectorStoreRegistry\n",
                "from langchain_community.document_loaders import TextLoader\n",
                "from langchain_text_splitters import RecursiveCharacterTextSplitter\n",
                "\n",
                "from genai_blueprint.wip.smolagents_chain import RetrieverTool\n",
                "\n",
                "# Usual RAG stuff : load document, split it, and add chunks into a vectorstore\n",
                "\n",
                "documents = TextLoader(\"use_case_data/other/state_of_the_union.txt\").load()\n",
                "texts = RecursiveCharacterTextSplitter(chunk_size=2000).split_documents(documents)\n",
                "vs = VectorStoreRegistry(id=\"InMemory\", embeddings_factory=EmbeddingsFactory()).vector_store\n",
                "_ = vs.add_documents(texts)\n",
                "vs_retriever = vs.as_retriever(k=10)\n",
                "\n",
                "\n",
                "# Initialize agent\n",
                "def create_rag_agent(retriever):\n",
                "    retriever_tool = RetrieverTool(retriever)\n",
                "    return CodeAgent(tools=[retriever_tool], model=llm, max_steps=4)\n",
                "\n",
                "\n",
                "agent = create_rag_agent(vs_retriever)\n",
                "response = agent.run(\"What did the president say about Ketanji Brown Jackson\")\n",
                "print(response)"
            ]
        },
        {
            "cell_type": "markdown",
            "metadata": {},
            "source": [
                "## Understanding the Agent\n",
                "\n",
                "Let's inspect the agent's prompt templates to understand how it works.\n",
                "\n",
                "The templates define:\n",
                "- How the agent thinks\n",
                "- How it formats responses\n",
                "- Its decision-making process"
            ]
        },
        {
            "cell_type": "code",
            "execution_count": null,
            "metadata": {},
            "outputs": [],
            "source": [
                "agent.prompt_templates"
            ]
        },
        {
            "cell_type": "code",
            "execution_count": null,
            "metadata": {},
            "outputs": [],
            "source": [
                "display(Markdown(agent.prompt_templates[\"final_answer\"]))"
            ]
        },
        {
            "cell_type": "markdown",
            "metadata": {},
            "source": [
                "## Web Interaction\n",
                "\n",
                "Now we'll create an agent that can:\n",
                "- Visit web pages\n",
                "- Extract information\n",
                "- Answer questions based on web content\n",
                "\n",
                "We'll ask it to find France's current prime minister."
            ]
        },
        {
            "cell_type": "code",
            "execution_count": null,
            "metadata": {},
            "outputs": [],
            "source": [
                "# search_tool = Tool.from_langchain(load_tools([\"serpapi\"])[0])\n",
                "\n",
                "# agent = CodeAgent(tools=[search_tool], model=HfApiModel())\n",
                "\n",
                "# agent.run(\"How many more blocks (also denoted as layers) are in BERT base encoder compared to the encoder from the architecture proposed in Attention is All You Need?\")"
            ]
        },
        {
            "cell_type": "code",
            "execution_count": null,
            "metadata": {},
            "outputs": [],
            "source": [
                "agent = CodeAgent(\n",
                "    tools=[VisitWebpageTool()],\n",
                "    model=llm,\n",
                "    additional_authorized_imports=[\"requests\", \"markdownify\", \"bs4\"],\n",
                "    # use_e2b_executor=True,\n",
                ")\n",
                "\n",
                "agent.run(\"Qui est l'actuel premier ministre en France ?\")"
            ]
        },
        {
            "cell_type": "markdown",
            "metadata": {},
            "source": [
                "## SQL Query Generation\n",
                "\n",
                "Finally, we'll create an agent that can:\n",
                "- Understand natural language questions\n",
                "- Generate SQL queries\n",
                "- Execute them against a database\n",
                "- Correct errors automatically\n",
                "\n",
                "We'll use a simple in-memory SQLite database with restaurant receipt data."
            ]
        },
        {
            "cell_type": "code",
            "execution_count": null,
            "metadata": {},
            "outputs": [],
            "source": [
                "from sqlalchemy import (\n",
                "    Column,\n",
                "    Float,\n",
                "    Integer,\n",
                "    MetaData,\n",
                "    String,\n",
                "    Table,\n",
                "    create_engine,\n",
                "    insert,\n",
                "    inspect,\n",
                "    text,\n",
                ")\n",
                "\n",
                "engine = create_engine(\"sqlite:///:memory:\")\n",
                "metadata_obj = MetaData()\n",
                "\n",
                "table_name = \"receipts\"\n",
                "receipts = Table(\n",
                "    table_name,\n",
                "    metadata_obj,\n",
                "    Column(\"receipt_id\", Integer, primary_key=True),\n",
                "    Column(\"customer_name\", String(16), primary_key=True),\n",
                "    Column(\"price\", Float),\n",
                "    Column(\"tip\", Float),\n",
                ")\n",
                "metadata_obj.create_all(engine)\n",
                "\n",
                "rows = [\n",
                "    {\"receipt_id\": 1, \"customer_name\": \"Alan Payne\", \"price\": 12.06, \"tip\": 1.20},\n",
                "    {\"receipt_id\": 2, \"customer_name\": \"Alex Mason\", \"price\": 23.86, \"tip\": 0.24},\n",
                "    {\"receipt_id\": 3, \"customer_name\": \"Woodrow Wilson\", \"price\": 53.43, \"tip\": 5.43},\n",
                "    {\"receipt_id\": 4, \"customer_name\": \"Margaret James\", \"price\": 21.11, \"tip\": 1.00},\n",
                "    {\"receipt_id\": 5, \"customer_name\": \"John Doe\", \"price\": 100.00, \"tip\": 10.00},\n",
                "]\n",
                "for row in rows:\n",
                "    stmt = insert(receipts).values(**row)\n",
                "    with engine.begin() as connection:\n",
                "        cursor = connection.execute(stmt)\n",
                "\n",
                "table_name = \"waiters\"\n",
                "receipts = Table(\n",
                "    table_name,\n",
                "    metadata_obj,\n",
                "    Column(\"receipt_id\", Integer, primary_key=True),\n",
                "    Column(\"waiter_name\", String(16), primary_key=True),\n",
                ")\n",
                "metadata_obj.create_all(engine)\n",
                "\n",
                "rows = [\n",
                "    {\"receipt_id\": 1, \"waiter_name\": \"Corey Johnson\"},\n",
                "    {\"receipt_id\": 2, \"waiter_name\": \"Michael Watts\"},\n",
                "    {\"receipt_id\": 3, \"waiter_name\": \"Michael Watts\"},\n",
                "    {\"receipt_id\": 4, \"waiter_name\": \"Margaret James\"},\n",
                "]\n",
                "for row in rows:\n",
                "    stmt = insert(receipts).values(**row)\n",
                "    with engine.begin() as connection:\n",
                "        cursor = connection.execute(stmt)"
            ]
        },
        {
            "cell_type": "code",
            "execution_count": null,
            "metadata": {},
            "outputs": [],
            "source": [
                "updated_description = \"\"\"Allows you to perform SQL queries on the table. Beware that this tool's output is a string representation of the execution output.\n",
                "It can use the following tables:\"\"\"\n",
                "\n",
                "inspector = inspect(engine)\n",
                "for table in [\"receipts\", \"waiters\"]:\n",
                "    columns_info = [(col[\"name\"], col[\"type\"]) for col in inspector.get_columns(table)]\n",
                "\n",
                "    table_description = f\"Table '{table}':\\n\"\n",
                "\n",
                "    table_description += \"Columns:\\n\" + \"\\n\".join([f\"  - {name}: {col_type}\" for name, col_type in columns_info])\n",
                "    updated_description += \"\\n\\n\" + table_description\n",
                "\n",
                "print(updated_description)"
            ]
        },
        {
            "cell_type": "code",
            "execution_count": null,
            "metadata": {},
            "outputs": [],
            "source": [
                "from smolagents import tool\n",
                "\n",
                "\n",
                "@tool\n",
                "def sql_engine(query: str) -> str:\n",
                "    \"\"\"Allows you to perform SQL queries.\n",
                "\n",
                "    Args:\n",
                "        query: The query to perform. This should be correct SQL.\n",
                "    \"\"\"\n",
                "    output = \"\"\n",
                "    with engine.connect() as con:\n",
                "        rows = con.execute(text(query))\n",
                "        for row in rows:\n",
                "            output += \"\\n\" + str(row)\n",
                "    return output\n",
                "\n",
                "\n",
                "sql_engine.description = updated_description"
            ]
        },
        {
            "cell_type": "code",
            "execution_count": null,
            "metadata": {},
            "outputs": [],
            "source": [
                "agent = CodeAgent(tools=[sql_engine], model=llm)\n",
                "agent.run(\"Can you give me the name of the client who got the most expensive receipt?\")"
            ]
        }
    ],
    "metadata": {
        "kernelspec": {
            "display_name": "genai-blueprint (3.12.3)",
            "language": "python",
            "name": "python3"
        },
        "language_info": {
            "codemirror_mode": {
                "name": "ipython",
                "version": 3
            },
            "file_extension": ".py",
            "mimetype": "text/x-python",
            "name": "python",
            "nbconvert_exporter": "python",
            "pygments_lexer": "ipython3",
            "version": "3.12.3"
        }
    },
    "nbformat": 4,
    "nbformat_minor": 2
}