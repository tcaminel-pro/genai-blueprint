{
 "cells": [
  {
   "cell_type": "code",
   "execution_count": null,
   "id": "c667e8fd",
   "metadata": {},
   "outputs": [],
   "source": [
    "# A default setup cell.\n",
    "# It imports environment variables, define 'devtools.debug\" as a buildins, set PYTHONPATH, and code auto-reload\n",
    "# Copy it in other Notebooks\n",
    "\n",
    "\n",
    "from dotenv import load_dotenv\n",
    "from rich import print\n",
    "\n",
    "load_dotenv(verbose=True)\n",
    "\n",
    "%load_ext autoreload\n",
    "%autoreload 2\n",
    "%reset -f"
   ]
  },
  {
   "cell_type": "code",
   "execution_count": null,
   "id": "6ea02f69",
   "metadata": {},
   "outputs": [],
   "source": [
    "import pandas as pd\n",
    "from genai_tk.core.llm_factory import LlmFactory\n",
    "from genai_tk.utils.config_mngr import global_config\n",
    "from smolagents import (\n",
    "    LiteLLMModel,\n",
    ")"
   ]
  },
  {
   "cell_type": "code",
   "execution_count": null,
   "id": "5b720329",
   "metadata": {},
   "outputs": [],
   "source": [
    "MODEL_ID = None\n",
    "model_name = LlmFactory(llm_id=MODEL_ID).get_litellm_model_name()\n",
    "llm = LiteLLMModel(model_id=model_name)\n",
    "print(model_name)"
   ]
  },
  {
   "cell_type": "code",
   "execution_count": null,
   "id": "4d72764a",
   "metadata": {},
   "outputs": [],
   "source": []
  },
  {
   "cell_type": "code",
   "execution_count": null,
   "id": "9294ca26",
   "metadata": {},
   "outputs": [],
   "source": [
    "DATASETS = {\n",
    "    \"country CO2 emissions\": (\n",
    "        \"Country daily CO2 emissions from 2019 to 2024\",\n",
    "        \"carbon_global_dataset/carbon_global.csv\",\n",
    "    ),\n",
    "    \"cities CO2 emissions\": (\n",
    "        \"Major cities daily CO2 emissions from 2019 to 2024\",\n",
    "        \"carbon_global_dataset/carbon_cities.csv\",\n",
    "    ),\n",
    "    \"GDP\": (\"Countries GDP per year\", \"gdp/API_NY.GDP.MKTP.CD_DS2_en_csv_v2_2.csv\"),\n",
    "    \"country population\": (\"Country populatipn from 1960 to 2023\", \"world_population/world_population.csv\"),\n",
    "}\n",
    "\n",
    "\n",
    "def get_data(dataset: str) -> pd.DataFrame:\n",
    "    \"\"\"Load and cache CO2 emissions data from configured dataset.\n",
    "\n",
    "    Returns:\n",
    "        DataFrame containing emissions data by country and sector.\n",
    "    \"\"\"\n",
    "    description, data_set = DATASETS[dataset]\n",
    "    data_file = global_config().get_dir_path(\"datasets_root\") / data_set\n",
    "    print(data_file, description)\n",
    "    assert data_file.exists(), f\"file  not found: {data_file}\"\n",
    "    if data_file.name.endswith(\".csv\"):\n",
    "        df = pd.read_csv(data_file, decimal=\",\")\n",
    "    else:\n",
    "        df = pd.read_excel(data_file)\n",
    "    return df"
   ]
  },
  {
   "cell_type": "code",
   "execution_count": null,
   "id": "1bb03006",
   "metadata": {},
   "outputs": [],
   "source": [
    "import folium\n",
    "\n",
    "m = folium.Map([45.35, -121.6972], zoom_start=12)\n",
    "\n",
    "folium.Marker(\n",
    "    location=[45.3288, -121.6625],\n",
    "    tooltip=\"Click me!\",\n",
    "    popup=\"Mt. Hood Meadows\",\n",
    "    icon=folium.Icon(icon=\"cloud\"),\n",
    ").add_to(m)\n",
    "\n",
    "folium.Marker(\n",
    "    location=[45.3311, -121.7113],\n",
    "    tooltip=\"Click me!\",\n",
    "    popup=\"Timberline Lodge\",\n",
    "    icon=folium.Icon(color=\"green\"),\n",
    ").add_to(m)\n",
    "m"
   ]
  },
  {
   "cell_type": "code",
   "execution_count": null,
   "id": "5c3bebb7",
   "metadata": {},
   "outputs": [],
   "source": [
    "m.save(\"map.html\")"
   ]
  },
  {
   "cell_type": "code",
   "execution_count": null,
   "id": "0769e797",
   "metadata": {},
   "outputs": [],
   "source": [
    "import pandas\n",
    "import requests\n",
    "\n",
    "state_geo = requests.get(\n",
    "    \"https://raw.githubusercontent.com/python-visualization/folium-example-data/main/us_states.json\"\n",
    ").json()\n",
    "state_data = pandas.read_csv(\n",
    "    \"https://raw.githubusercontent.com/python-visualization/folium-example-data/main/us_unemployment_oct_2012.csv\"\n",
    ")\n",
    "\n",
    "m = folium.Map(location=[48, -102], zoom_start=3)\n",
    "\n",
    "folium.Choropleth(\n",
    "    geo_data=state_geo,\n",
    "    name=\"choropleth\",\n",
    "    data=state_data,\n",
    "    columns=[\"State\", \"Unemployment\"],\n",
    "    key_on=\"feature.id\",\n",
    "    fill_color=\"YlGn\",\n",
    "    fill_opacity=0.7,\n",
    "    line_opacity=0.2,\n",
    "    legend_name=\"Unemployment Rate (%)\",\n",
    ").add_to(m)\n",
    "\n",
    "folium.LayerControl().add_to(m)\n",
    "\n",
    "m"
   ]
  },
  {
   "cell_type": "code",
   "execution_count": null,
   "id": "b9f1cb87",
   "metadata": {},
   "outputs": [],
   "source": [
    "m.save(\"map1.html\")"
   ]
  }
 ],
 "metadata": {
  "kernelspec": {
   "display_name": ".venv",
   "language": "python",
   "name": "python3"
  },
  "language_info": {
   "codemirror_mode": {
    "name": "ipython",
    "version": 3
   },
   "file_extension": ".py",
   "mimetype": "text/x-python",
   "name": "python",
   "nbconvert_exporter": "python",
   "pygments_lexer": "ipython3",
   "version": "3.12.3"
  }
 },
 "nbformat": 4,
 "nbformat_minor": 5
}
