{
 "cells": [
  {
   "cell_type": "code",
   "execution_count": 1,
   "metadata": {},
   "outputs": [],
   "source": [
    "# A default setup cell.\n",
    "# It imports environment variables, define 'devtools.debug\" as a buildins, set PYTHONPATH, and code auto-reload\n",
    "# Copy it in other Notebooks\n",
    "\n",
    "%load_ext autoreload\n",
    "%autoreload 2\n",
    "%reset -f\n",
    "\n",
    "from devtools import debug  # noqa: F401  # noqa: F811\n",
    "from dotenv import load_dotenv\n",
    "from rich import print  # noqa: F401\n",
    "\n",
    "assert load_dotenv(verbose=True)"
   ]
  },
  {
   "cell_type": "code",
   "execution_count": 2,
   "metadata": {},
   "outputs": [],
   "source": [
    "from src.utils.config_mngr import global_config\n",
    "\n",
    "list_demos = (\n",
    "    global_config(reload=True).merge_with(\"config/schemas/document_extractor.yaml\").get_list(\"Document_extractor_demo\")\n",
    ")\n",
    "\n",
    "\n",
    "test_schema = next((item for item in list_demos if item.get(\"schema_name\") == \"Rainbow File\"))"
   ]
  },
  {
   "cell_type": "code",
   "execution_count": null,
   "metadata": {},
   "outputs": [],
   "source": [
    "from src.demos.ekg.struct_rag_doc_processing import StructuredRagConfig, StructuredRagDocProcessor\n",
    "from src.demos.ekg.struct_rag_tool_factory import StructuredRagToolFactory\n",
    "\n",
    "KV_STORE = \"file\"\n",
    "\n",
    "\n",
    "vector_store_factory = StructuredRagConfig.get_vector_store_factory()\n",
    "struct_rag_conf = StructuredRagConfig(\n",
    "    model_definition=test_schema,\n",
    "    vector_store_factory=vector_store_factory,\n",
    "    llm_id=None,\n",
    "    kvstore_id=KV_STORE,\n",
    ")\n",
    "rainbow_rag_processor = StructuredRagDocProcessor(rag_conf=struct_rag_conf)\n",
    "rainbow_tool_factory = StructuredRagToolFactory(rag_conf=struct_rag_conf)"
   ]
  },
  {
   "cell_type": "code",
   "execution_count": null,
   "metadata": {},
   "outputs": [],
   "source": [
    "import os\n",
    "from pathlib import Path\n",
    "\n",
    "doc_id = \"03.RESM-SOL-9000559500_CNES_TMA_VENUS_VIP_PEPS_THEIA_MUSCATE-v0.2\"\n",
    "\n",
    "file1 = Path(os.getenv(\"ONEDRIVE\", \"\")) / \"prj/atos-kg/rainbow-json/\" / (doc_id + \"_extracted.json\")\n",
    "assert file1.exists()\n",
    "doc_text = file1.read_text()\n",
    "\n",
    "rainbow_report = rainbow_rag_processor.analyze_document(\n",
    "    document_id=doc_id,\n",
    "    markdown=doc_text,\n",
    ")\n",
    "\n",
    "print(\"Structured result:\", rainbow_report)\n",
    "\n",
    "assert rainbow_report"
   ]
  },
  {
   "cell_type": "code",
   "execution_count": null,
   "metadata": {},
   "outputs": [],
   "source": [
    "chunks = rainbow_rag_processor.chunck(rainbow_report)\n",
    "# debug(chunks)"
   ]
  },
  {
   "cell_type": "code",
   "execution_count": null,
   "metadata": {},
   "outputs": [],
   "source": [
    "from langchain_core.utils.function_calling import convert_to_openai_tool\n",
    "\n",
    "dyn_tool = rainbow_tool_factory.create_vector_search_lc_tool()\n",
    "debug(convert_to_openai_tool(dyn_tool))"
   ]
  },
  {
   "cell_type": "code",
   "execution_count": null,
   "metadata": {},
   "outputs": [],
   "source": [
    "r = dyn_tool.invoke({\"query\": \"CNES\", \"selected_sections\": [\"team\"], \"entity_keys\": []})\n",
    "print(r)"
   ]
  },
  {
   "cell_type": "code",
   "execution_count": null,
   "metadata": {},
   "outputs": [],
   "source": [
    "rainbow_rag_processor.kv_to_vector_store()"
   ]
  },
  {
   "cell_type": "code",
   "execution_count": null,
   "metadata": {},
   "outputs": [],
   "source": [
    "# 2. Index the document\n",
    "rainbow_rag_processor.store_chunks(chunks)\n",
    "print(\"Document stored.\")"
   ]
  },
  {
   "cell_type": "code",
   "execution_count": null,
   "metadata": {},
   "outputs": [],
   "source": [
    "hits = rainbow_tool_factory.query_vectorstore(\"e-mail address\", k=2)\n",
    "print(\"Vector hits:\", hits)"
   ]
  },
  {
   "cell_type": "code",
   "execution_count": null,
   "metadata": {},
   "outputs": [],
   "source": [
    "# 3. Query the vector store\n",
    "hits = rainbow_tool_factory.query_vectorstore(\"revenue\", k=2, filter={\"field_name\": {\"$eq\": \"financials\"}})\n",
    "print(\"Vector hits:\", hits)"
   ]
  },
  {
   "cell_type": "code",
   "execution_count": null,
   "metadata": {},
   "outputs": [],
   "source": [
    "# vector_store_factory.delete_collection()"
   ]
  },
  {
   "cell_type": "code",
   "execution_count": null,
   "metadata": {},
   "outputs": [],
   "source": [
    "from smolagents import CodeAgent, LiteLLMModel, Tool\n",
    "\n",
    "from src.ai_core.llm_factory import LlmFactory\n",
    "\n",
    "MODEL_ID = None\n",
    "llm_factory = LlmFactory(llm_id=MODEL_ID, llm_params={\"temperature\": 0.7})\n",
    "llm = LiteLLMModel(model_id=llm_factory.get_litellm_model_name(), **llm_factory.llm_params)\n",
    "\n",
    "dyn_tool = rainbow_tool_factory.create_vector_search_lc_tool()\n",
    "sa_tool = Tool.from_langchain(dyn_tool)\n",
    "\n",
    "agent = CodeAgent(tools=[sa_tool], model=llm)\n",
    "\n",
    "# agent.run(\"What are the offerings in space sector ?\")"
   ]
  },
  {
   "cell_type": "code",
   "execution_count": null,
   "metadata": {},
   "outputs": [],
   "source": [
    "print(dyn_tool.description)"
   ]
  },
  {
   "cell_type": "code",
   "execution_count": null,
   "metadata": {},
   "outputs": [],
   "source": [
    "agent.run(\"What is the bif manager for opportunity 9000559500 ?\")"
   ]
  },
  {
   "cell_type": "code",
   "execution_count": null,
   "metadata": {},
   "outputs": [],
   "source": [
    "debug(\n",
    "    dyn_tool.invoke(\n",
    "        {\n",
    "            \"query\": \"BIF manager for opportunity 9000559500\",\n",
    "            \"selected_sections\": [\"team\"],\n",
    "            \"entity_keys\": [\"9000559500\"],\n",
    "        }\n",
    "    )\n",
    ")"
   ]
  },
  {
   "cell_type": "code",
   "execution_count": null,
   "metadata": {},
   "outputs": [],
   "source": [
    "def from_langchain(langchain_tool):\n",
    "    class LangChainToolWrapper(Tool):\n",
    "        skip_forward_signature_validation = True\n",
    "\n",
    "        def __init__(self, _langchain_tool):\n",
    "            self.name = _langchain_tool.name.lower()\n",
    "            self.description = _langchain_tool.description\n",
    "            self.inputs = _langchain_tool.args.copy()\n",
    "            debug(_langchain_tool.args)\n",
    "            for input_content in self.inputs.values():\n",
    "                if \"title\" in input_content:\n",
    "                    input_content.pop(\"title\")\n",
    "                # input_content[\"description\"] = \"\"\n",
    "            self.output_type = \"string\"\n",
    "            self.langchain_tool = _langchain_tool\n",
    "            self.is_initialized = True\n",
    "\n",
    "        def forward(self, *args, **kwargs):\n",
    "            tool_input = kwargs.copy()\n",
    "            for index, argument in enumerate(args):\n",
    "                if index < len(self.inputs):\n",
    "                    input_key = next(iter(self.inputs))\n",
    "                    tool_input[input_key] = argument\n",
    "            return self.langchain_tool.run(tool_input)\n",
    "\n",
    "    return LangChainToolWrapper(langchain_tool)\n",
    "\n",
    "\n",
    "sa_tool_1 = from_langchain(dyn_tool)\n",
    "sa_tool_1.inputs"
   ]
  }
 ],
 "metadata": {
  "kernelspec": {
   "display_name": "genai-blueprint (3.12.3)",
   "language": "python",
   "name": "python3"
  },
  "language_info": {
   "codemirror_mode": {
    "name": "ipython",
    "version": 3
   },
   "file_extension": ".py",
   "mimetype": "text/x-python",
   "name": "python",
   "nbconvert_exporter": "python",
   "pygments_lexer": "ipython3",
   "version": "3.12.3"
  }
 },
 "nbformat": 4,
 "nbformat_minor": 2
}
